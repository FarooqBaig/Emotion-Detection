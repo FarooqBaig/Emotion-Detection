{
  "cells": [
    {
      "cell_type": "markdown",
      "metadata": {
        "id": "view-in-github",
        "colab_type": "text"
      },
      "source": [
        "<a href=\"https://colab.research.google.com/github/FarooqBaig/Automatic-Attendance-Collecting-System/blob/main/NewFerrrr.ipynb\" target=\"_parent\"><img src=\"https://colab.research.google.com/assets/colab-badge.svg\" alt=\"Open In Colab\"/></a>"
      ]
    },
    {
      "cell_type": "code",
      "execution_count": 2,
      "metadata": {
        "id": "c5PedS__BY3M"
      },
      "outputs": [],
      "source": [
        "import matplotlib.pyplot as plt\n",
        "import numpy as np\n",
        "import pandas as pd\n",
        "import seaborn as sns\n",
        "import os"
      ]
    },
    {
      "cell_type": "code",
      "execution_count": 3,
      "metadata": {
        "id": "zMdCj9EQBfdg"
      },
      "outputs": [],
      "source": [
        "from tensorflow.keras.preprocessing.image import load_img, img_to_array\n",
        "from tensorflow.keras.preprocessing.image import ImageDataGenerator\n",
        "from tensorflow.keras.layers import Dense,Input,Dropout,GlobalAveragePooling2D,Flatten,Conv2D,BatchNormalization,Activation,MaxPooling2D\n",
        "from tensorflow.keras.models import Model,Sequential\n",
        "from tensorflow.keras.optimizers import Adam,SGD,RMSprop\n",
        "from keras.layers import Dense, Conv2D, MaxPool2D , Flatten"
      ]
    },
    {
      "cell_type": "code",
      "execution_count": 4,
      "metadata": {
        "colab": {
          "base_uri": "https://localhost:8080/"
        },
        "id": "yraykS9VhWRd",
        "outputId": "f77a07a2-74af-4421-bee1-10b1a2e5c606"
      },
      "outputs": [
        {
          "output_type": "stream",
          "name": "stdout",
          "text": [
            "Looking in indexes: https://pypi.org/simple, https://us-python.pkg.dev/colab-wheels/public/simple/\n",
            "Requirement already satisfied: gdown in /usr/local/lib/python3.8/dist-packages (4.4.0)\n",
            "Collecting gdown\n",
            "  Downloading gdown-4.5.4-py3-none-any.whl (14 kB)\n",
            "Requirement already satisfied: requests[socks] in /usr/local/lib/python3.8/dist-packages (from gdown) (2.23.0)\n",
            "Requirement already satisfied: filelock in /usr/local/lib/python3.8/dist-packages (from gdown) (3.8.0)\n",
            "Requirement already satisfied: six in /usr/local/lib/python3.8/dist-packages (from gdown) (1.15.0)\n",
            "Requirement already satisfied: tqdm in /usr/local/lib/python3.8/dist-packages (from gdown) (4.64.1)\n",
            "Requirement already satisfied: beautifulsoup4 in /usr/local/lib/python3.8/dist-packages (from gdown) (4.6.3)\n",
            "Requirement already satisfied: urllib3!=1.25.0,!=1.25.1,<1.26,>=1.21.1 in /usr/local/lib/python3.8/dist-packages (from requests[socks]->gdown) (1.24.3)\n",
            "Requirement already satisfied: idna<3,>=2.5 in /usr/local/lib/python3.8/dist-packages (from requests[socks]->gdown) (2.10)\n",
            "Requirement already satisfied: certifi>=2017.4.17 in /usr/local/lib/python3.8/dist-packages (from requests[socks]->gdown) (2022.9.24)\n",
            "Requirement already satisfied: chardet<4,>=3.0.2 in /usr/local/lib/python3.8/dist-packages (from requests[socks]->gdown) (3.0.4)\n",
            "Requirement already satisfied: PySocks!=1.5.7,>=1.5.6 in /usr/local/lib/python3.8/dist-packages (from requests[socks]->gdown) (1.7.1)\n",
            "Installing collected packages: gdown\n",
            "  Attempting uninstall: gdown\n",
            "    Found existing installation: gdown 4.4.0\n",
            "    Uninstalling gdown-4.4.0:\n",
            "      Successfully uninstalled gdown-4.4.0\n",
            "Successfully installed gdown-4.5.4\n"
          ]
        }
      ],
      "source": [
        "!pip install --upgrade --no-cache-dir gdown"
      ]
    },
    {
      "cell_type": "code",
      "execution_count": 5,
      "metadata": {
        "id": "eTJ41kDtBfgP"
      },
      "outputs": [],
      "source": [
        "#! gdown --id 1PfeXBYOGdwXehjx-xKj90DO1cG7tSMt-"
      ]
    },
    {
      "cell_type": "code",
      "execution_count": 6,
      "metadata": {
        "colab": {
          "base_uri": "https://localhost:8080/"
        },
        "id": "BRdCx482BfjB",
        "outputId": "ff11b2b2-6144-4f33-af47-38f027f09bc7"
      },
      "outputs": [
        {
          "output_type": "stream",
          "name": "stdout",
          "text": [
            "Archive:  CK.zip\n",
            "   creating: CK/\n",
            "   creating: CK/test/\n",
            "   creating: CK/test/anger/\n",
            "  inflating: CK/test/anger/S502_001_00000015.png  \n",
            "  inflating: CK/test/anger/S502_001_00000016.png  \n",
            "  inflating: CK/test/anger/S503_001_00000069.png  \n",
            "  inflating: CK/test/anger/S503_001_00000070.png  \n",
            "  inflating: CK/test/anger/S503_001_00000071.png  \n",
            "  inflating: CK/test/anger/S504_001_00000020.png  \n",
            "  inflating: CK/test/anger/S504_001_00000021.png  \n",
            "  inflating: CK/test/anger/S504_001_00000022.png  \n",
            "  inflating: CK/test/anger/S506_001_00000038.png  \n",
            "  inflating: CK/test/anger/S506_001_00000039.png  \n",
            "  inflating: CK/test/anger/S506_001_00000040.png  \n",
            "  inflating: CK/test/anger/S999_001_00000016.png  \n",
            "  inflating: CK/test/anger/S999_001_00000017.png  \n",
            "  inflating: CK/test/anger/S999_001_00000018.png  \n",
            "   creating: CK/test/contempt/\n",
            "  inflating: CK/test/contempt/S504_002_00000009.png  \n",
            "  inflating: CK/test/contempt/S505_002_00000019.png  \n",
            "  inflating: CK/test/contempt/S505_002_00000020.png  \n",
            "  inflating: CK/test/contempt/S505_002_00000021.png  \n",
            "  inflating: CK/test/contempt/S506_002_00000007.png  \n",
            "  inflating: CK/test/contempt/S506_002_00000008.png  \n",
            "  inflating: CK/test/contempt/S506_002_00000009.png  \n",
            "  inflating: CK/test/contempt/S895_002_00000005.png  \n",
            "  inflating: CK/test/contempt/S895_002_00000006.png  \n",
            "  inflating: CK/test/contempt/S895_002_00000007.png  \n",
            "   creating: CK/test/disgust/\n",
            "  inflating: CK/test/disgust/S108_006_00000020.png  \n",
            "  inflating: CK/test/disgust/S109_005_00000012.png  \n",
            "  inflating: CK/test/disgust/S109_005_00000013.png  \n",
            "  inflating: CK/test/disgust/S109_005_00000014.png  \n",
            "  inflating: CK/test/disgust/S111_007_00000012.png  \n",
            "  inflating: CK/test/disgust/S111_007_00000013.png  \n",
            "  inflating: CK/test/disgust/S111_007_00000014.png  \n",
            "  inflating: CK/test/disgust/S116_006_00000005.png  \n",
            "  inflating: CK/test/disgust/S116_006_00000006.png  \n",
            "  inflating: CK/test/disgust/S116_006_00000007.png  \n",
            "  inflating: CK/test/disgust/S124_006_00000009.png  \n",
            "  inflating: CK/test/disgust/S124_006_00000010.png  \n",
            "  inflating: CK/test/disgust/S124_006_00000011.png  \n",
            "  inflating: CK/test/disgust/S125_008_00000008.png  \n",
            "  inflating: CK/test/disgust/S125_008_00000009.png  \n",
            "  inflating: CK/test/disgust/S125_008_00000010.png  \n",
            "  inflating: CK/test/disgust/S128_004_00000011.png  \n",
            "  inflating: CK/test/disgust/S128_004_00000012.png  \n",
            "  inflating: CK/test/disgust/S128_004_00000013.png  \n",
            "  inflating: CK/test/disgust/S129_011_00000016.png  \n",
            "  inflating: CK/test/disgust/S129_011_00000017.png  \n",
            "  inflating: CK/test/disgust/S129_011_00000018.png  \n",
            "  inflating: CK/test/disgust/S130_012_00000009.png  \n",
            "  inflating: CK/test/disgust/S130_012_00000010.png  \n",
            "  inflating: CK/test/disgust/S130_012_00000011.png  \n",
            "  inflating: CK/test/disgust/S131_010_00000016.png  \n",
            "  inflating: CK/test/disgust/S131_010_00000017.png  \n",
            "  inflating: CK/test/disgust/S131_010_00000018.png  \n",
            "  inflating: CK/test/disgust/S132_005_00000014.png  \n",
            "  inflating: CK/test/disgust/S132_005_00000015.png  \n",
            "  inflating: CK/test/disgust/S132_005_00000016.png  \n",
            "  inflating: CK/test/disgust/S134_008_00000011.png  \n",
            "  inflating: CK/test/disgust/S134_008_00000012.png  \n",
            "  inflating: CK/test/disgust/S134_008_00000013.png  \n",
            "   creating: CK/test/fear/\n",
            "  inflating: CK/test/fear/S011_003_00000012.png  \n",
            "  inflating: CK/test/fear/S011_003_00000013.png  \n",
            "  inflating: CK/test/fear/S011_003_00000014.png  \n",
            "  inflating: CK/test/fear/S032_004_00000012.png  \n",
            "  inflating: CK/test/fear/S032_004_00000013.png  \n",
            "  inflating: CK/test/fear/S032_004_00000014.png  \n",
            "  inflating: CK/test/fear/S046_003_00000014.png  \n",
            "  inflating: CK/test/fear/S046_003_00000015.png  \n",
            "  inflating: CK/test/fear/S046_003_00000016.png  \n",
            "  inflating: CK/test/fear/S050_001_00000015.png  \n",
            "  inflating: CK/test/fear/S050_001_00000016.png  \n",
            "  inflating: CK/test/fear/S050_001_00000017.png  \n",
            "  inflating: CK/test/fear/S054_002_00000013.png  \n",
            "  inflating: CK/test/fear/S054_002_00000014.png  \n",
            "  inflating: CK/test/fear/S054_002_00000015.png  \n",
            "  inflating: CK/test/fear/S055_006_00000006.png  \n",
            "  inflating: CK/test/fear/S055_006_00000007.png  \n",
            "  inflating: CK/test/fear/S055_006_00000008.png  \n",
            "  inflating: CK/test/fear/S059_002_00000015.png  \n",
            "  inflating: CK/test/fear/S059_002_00000016.png  \n",
            "  inflating: CK/test/fear/S059_002_00000017.png  \n",
            "  inflating: CK/test/fear/S062_001_00000015.png  \n",
            "  inflating: CK/test/fear/S062_001_00000016.png  \n",
            "  inflating: CK/test/fear/S062_001_00000017.png  \n",
            "  inflating: CK/test/fear/S065_002_00000020.png  \n",
            "  inflating: CK/test/fear/S065_002_00000021.png  \n",
            "  inflating: CK/test/fear/S065_002_00000022.png  \n",
            "  inflating: CK/test/fear/S068_004_00000008.png  \n",
            "  inflating: CK/test/fear/S068_004_00000009.png  \n",
            "  inflating: CK/test/fear/S068_004_00000010.png  \n",
            "  inflating: CK/test/fear/S074_001_00000018.png  \n",
            "  inflating: CK/test/fear/S074_001_00000019.png  \n",
            "  inflating: CK/test/fear/S074_001_00000020.png  \n",
            "   creating: CK/test/happy/\n",
            "  inflating: CK/test/happy/S010_006_00000013.png  \n",
            "  inflating: CK/test/happy/S010_006_00000014.png  \n",
            "  inflating: CK/test/happy/S010_006_00000015.png  \n",
            "  inflating: CK/test/happy/S011_006_00000011.png  \n",
            "  inflating: CK/test/happy/S011_006_00000012.png  \n",
            "  inflating: CK/test/happy/S011_006_00000013.png  \n",
            "  inflating: CK/test/happy/S014_005_00000015.png  \n",
            "  inflating: CK/test/happy/S014_005_00000016.png  \n",
            "  inflating: CK/test/happy/S014_005_00000017.png  \n",
            "  inflating: CK/test/happy/S026_006_00000011.png  \n",
            "  inflating: CK/test/happy/S026_006_00000012.png  \n",
            "  inflating: CK/test/happy/S136_006_00000018.png  \n",
            "  inflating: CK/test/happy/S136_006_00000019.png  \n",
            "  inflating: CK/test/happy/S136_006_00000020.png  \n",
            "  inflating: CK/test/happy/S137_011_00000018.png  \n",
            "  inflating: CK/test/happy/S137_011_00000019.png  \n",
            "  inflating: CK/test/happy/S137_011_00000020.png  \n",
            "  inflating: CK/test/happy/S138_005_00000014.png  \n",
            "  inflating: CK/test/happy/S138_005_00000015.png  \n",
            "  inflating: CK/test/happy/S138_005_00000016.png  \n",
            "  inflating: CK/test/happy/Training_335906.jpg  \n",
            "  inflating: CK/test/happy/Training_351152.jpg  \n",
            "   creating: CK/test/sadness/\n",
            "  inflating: CK/test/sadness/S011_002_00000020.png  \n",
            "  inflating: CK/test/sadness/S011_002_00000021.png  \n",
            "  inflating: CK/test/sadness/S011_002_00000022.png  \n",
            "  inflating: CK/test/sadness/S014_002_00000014.png  \n",
            "  inflating: CK/test/sadness/S014_002_00000015.png  \n",
            "  inflating: CK/test/sadness/S014_002_00000016.png  \n",
            "  inflating: CK/test/sadness/S026_002_00000014.png  \n",
            "  inflating: CK/test/sadness/S026_002_00000015.png  \n",
            "  inflating: CK/test/sadness/S026_002_00000016.png  \n",
            "  inflating: CK/test/sadness/S042_002_00000014.png  \n",
            "  inflating: CK/test/sadness/S042_002_00000015.png  \n",
            "  inflating: CK/test/sadness/S042_002_00000016.png  \n",
            "  inflating: CK/test/sadness/S046_001_00000023.png  \n",
            "  inflating: CK/test/sadness/S046_001_00000024.png  \n",
            "  inflating: CK/test/sadness/S046_001_00000025.png  \n",
            "  inflating: CK/test/sadness/S064_004_00000012.png  \n",
            "  inflating: CK/test/sadness/S064_004_00000013.png  \n",
            "  inflating: CK/test/sadness/S064_004_00000014.png  \n",
            "  inflating: CK/test/sadness/S066_004_00000008.png  \n",
            "  inflating: CK/test/sadness/S066_004_00000009.png  \n",
            "  inflating: CK/test/sadness/S066_004_00000010.png  \n",
            "  inflating: CK/test/sadness/S071_002_00000018.png  \n",
            "  inflating: CK/test/sadness/S071_002_00000019.png  \n",
            "  inflating: CK/test/sadness/S071_002_00000020.png  \n",
            "  inflating: CK/test/sadness/S080_005_00000011.png  \n",
            "  inflating: CK/test/sadness/S080_005_00000012.png  \n",
            "  inflating: CK/test/sadness/S080_005_00000013.png  \n",
            "  inflating: CK/test/sadness/S081_002_00000022.png  \n",
            "  inflating: CK/test/sadness/S081_002_00000023.png  \n",
            "  inflating: CK/test/sadness/S081_002_00000024.png  \n",
            "  inflating: CK/test/sadness/S093_001_00000018.png  \n",
            "  inflating: CK/test/sadness/S093_001_00000019.png  \n",
            "  inflating: CK/test/sadness/S093_001_00000020.png  \n",
            "   creating: CK/test/surprise/\n",
            "  inflating: CK/test/surprise/S010_002_00000012.png  \n",
            "  inflating: CK/test/surprise/S010_002_00000013.png  \n",
            "  inflating: CK/test/surprise/S010_002_00000014.png  \n",
            "  inflating: CK/test/surprise/S011_001_00000014.png  \n",
            "  inflating: CK/test/surprise/S011_001_00000015.png  \n",
            "  inflating: CK/test/surprise/S011_001_00000016.png  \n",
            "  inflating: CK/test/surprise/S014_001_00000027.png  \n",
            "  inflating: CK/test/surprise/S014_001_00000028.png  \n",
            "  inflating: CK/test/surprise/S014_001_00000029.png  \n",
            "  inflating: CK/test/surprise/S022_001_00000028.png  \n",
            "  inflating: CK/test/surprise/S022_001_00000029.png  \n",
            "  inflating: CK/test/surprise/S035_001_00000013.png  \n",
            "  inflating: CK/test/surprise/S044_001_00000024.png  \n",
            "  inflating: CK/test/surprise/S052_001_00000014.png  \n",
            "  inflating: CK/test/surprise/S056_003_00000008.png  \n",
            "  inflating: CK/test/surprise/S059_001_00000018.png  \n",
            "  inflating: CK/test/surprise/S063_001_00000012.png  \n",
            "  inflating: CK/test/surprise/S067_002_00000012.png  \n",
            "  inflating: CK/test/surprise/S070_002_00000016.png  \n",
            "  inflating: CK/test/surprise/S075_002_00000013.png  \n",
            "  inflating: CK/test/surprise/S079_001_00000010.png  \n",
            "  inflating: CK/test/surprise/S082_001_00000015.png  \n",
            "  inflating: CK/test/surprise/S087_001_00000010.png  \n",
            "  inflating: CK/test/surprise/S092_001_00000015.png  \n",
            "  inflating: CK/test/surprise/S096_001_00000007.png  \n",
            "  inflating: CK/test/surprise/S101_002_00000018.png  \n",
            "  inflating: CK/test/surprise/S111_001_00000012.png  \n",
            "  inflating: CK/test/surprise/S115_001_00000008.png  \n",
            "  inflating: CK/test/surprise/S122_001_00000011.png  \n",
            "  inflating: CK/test/surprise/S127_001_00000015.png  \n",
            "  inflating: CK/test/surprise/S131_001_00000016.png  \n",
            "  inflating: CK/test/surprise/S136_001_00000018.png  \n",
            "  inflating: CK/test/surprise/S136_001_00000019.png  \n",
            "   creating: CK/train/\n",
            "   creating: CK/train/anger/\n",
            "  inflating: CK/train/anger/S010_004_00000017.png  \n",
            "  inflating: CK/train/anger/S010_004_00000018.png  \n",
            "  inflating: CK/train/anger/S010_004_00000019.png  \n",
            "  inflating: CK/train/anger/S011_004_00000019.png  \n",
            "  inflating: CK/train/anger/S011_004_00000020.png  \n",
            "  inflating: CK/train/anger/S011_004_00000021.png  \n",
            "  inflating: CK/train/anger/S014_003_00000028.png  \n",
            "  inflating: CK/train/anger/S014_003_00000029.png  \n",
            "  inflating: CK/train/anger/S014_003_00000030.png  \n",
            "  inflating: CK/train/anger/S022_005_00000030.png  \n",
            "  inflating: CK/train/anger/S022_005_00000031.png  \n",
            "  inflating: CK/train/anger/S022_005_00000032.png  \n",
            "  inflating: CK/train/anger/S026_003_00000013.png  \n",
            "  inflating: CK/train/anger/S026_003_00000014.png  \n",
            "  inflating: CK/train/anger/S026_003_00000015.png  \n",
            "  inflating: CK/train/anger/S028_001_00000022.png  \n",
            "  inflating: CK/train/anger/S028_001_00000023.png  \n",
            "  inflating: CK/train/anger/S028_001_00000024.png  \n",
            "  inflating: CK/train/anger/S029_001_00000017.png  \n",
            "  inflating: CK/train/anger/S029_001_00000018.png  \n",
            "  inflating: CK/train/anger/S029_001_00000019.png  \n",
            "  inflating: CK/train/anger/S032_003_00000015.png  \n",
            "  inflating: CK/train/anger/S032_003_00000016.png  \n",
            "  inflating: CK/train/anger/S032_003_00000017.png  \n",
            "  inflating: CK/train/anger/S034_003_00000025.png  \n",
            "  inflating: CK/train/anger/S034_003_00000026.png  \n",
            "  inflating: CK/train/anger/S034_003_00000027.png  \n",
            "  inflating: CK/train/anger/S037_003_00000020.png  \n",
            "  inflating: CK/train/anger/S037_003_00000021.png  \n",
            "  inflating: CK/train/anger/S037_003_00000022.png  \n",
            "  inflating: CK/train/anger/S042_004_00000018.png  \n",
            "  inflating: CK/train/anger/S042_004_00000019.png  \n",
            "  inflating: CK/train/anger/S042_004_00000020.png  \n",
            "  inflating: CK/train/anger/S045_005_00000028.png  \n",
            "  inflating: CK/train/anger/S045_005_00000029.png  \n",
            "  inflating: CK/train/anger/S045_005_00000030.png  \n",
            "  inflating: CK/train/anger/S050_004_00000019.png  \n",
            "  inflating: CK/train/anger/S050_004_00000020.png  \n",
            "  inflating: CK/train/anger/S050_004_00000021.png  \n",
            "  inflating: CK/train/anger/S055_004_00000026.png  \n",
            "  inflating: CK/train/anger/S055_004_00000027.png  \n",
            "  inflating: CK/train/anger/S055_004_00000028.png  \n",
            "  inflating: CK/train/anger/S058_005_00000008.png  \n",
            "  inflating: CK/train/anger/S058_005_00000009.png  \n",
            "  inflating: CK/train/anger/S058_005_00000010.png  \n",
            "  inflating: CK/train/anger/S066_005_00000009.png  \n",
            "  inflating: CK/train/anger/S066_005_00000010.png  \n",
            "  inflating: CK/train/anger/S066_005_00000011.png  \n",
            "  inflating: CK/train/anger/S067_004_00000021.png  \n",
            "  inflating: CK/train/anger/S067_004_00000022.png  \n",
            "  inflating: CK/train/anger/S067_004_00000023.png  \n",
            "  inflating: CK/train/anger/S071_004_00000026.png  \n",
            "  inflating: CK/train/anger/S071_004_00000027.png  \n",
            "  inflating: CK/train/anger/S071_004_00000028.png  \n",
            "  inflating: CK/train/anger/S072_005_00000017.png  \n",
            "  inflating: CK/train/anger/S072_005_00000018.png  \n",
            "  inflating: CK/train/anger/S072_005_00000019.png  \n",
            "  inflating: CK/train/anger/S075_008_00000010.png  \n",
            "  inflating: CK/train/anger/S075_008_00000011.png  \n",
            "  inflating: CK/train/anger/S075_008_00000012.png  \n",
            "  inflating: CK/train/anger/S082_005_00000015.png  \n",
            "  inflating: CK/train/anger/S082_005_00000016.png  \n",
            "  inflating: CK/train/anger/S082_005_00000017.png  \n",
            "  inflating: CK/train/anger/S087_007_00000014.png  \n",
            "  inflating: CK/train/anger/S087_007_00000015.png  \n",
            "  inflating: CK/train/anger/S087_007_00000016.png  \n",
            "  inflating: CK/train/anger/S089_003_00000034.png  \n",
            "  inflating: CK/train/anger/S089_003_00000035.png  \n",
            "  inflating: CK/train/anger/S089_003_00000036.png  \n",
            "  inflating: CK/train/anger/S090_007_00000012.png  \n",
            "  inflating: CK/train/anger/S090_007_00000013.png  \n",
            "  inflating: CK/train/anger/S090_007_00000014.png  \n",
            "  inflating: CK/train/anger/S092_003_00000012.png  \n",
            "  inflating: CK/train/anger/S092_003_00000013.png  \n",
            "  inflating: CK/train/anger/S092_003_00000014.png  \n",
            "  inflating: CK/train/anger/S100_005_00000021.png  \n",
            "  inflating: CK/train/anger/S100_005_00000022.png  \n",
            "  inflating: CK/train/anger/S100_005_00000023.png  \n",
            "  inflating: CK/train/anger/S109_003_00000015.png  \n",
            "  inflating: CK/train/anger/S109_003_00000016.png  \n",
            "  inflating: CK/train/anger/S109_003_00000017.png  \n",
            "  inflating: CK/train/anger/S111_006_00000008.png  \n",
            "  inflating: CK/train/anger/S111_006_00000009.png  \n",
            "  inflating: CK/train/anger/S111_006_00000010.png  \n",
            "  inflating: CK/train/anger/S112_005_00000015.png  \n",
            "  inflating: CK/train/anger/S112_005_00000016.png  \n",
            "  inflating: CK/train/anger/S112_005_00000017.png  \n",
            "  inflating: CK/train/anger/S113_008_00000021.png  \n",
            "  inflating: CK/train/anger/S113_008_00000022.png  \n",
            "  inflating: CK/train/anger/S113_008_00000023.png  \n",
            "  inflating: CK/train/anger/S117_006_00000008.png  \n",
            "  inflating: CK/train/anger/S117_006_00000009.png  \n",
            "  inflating: CK/train/anger/S117_006_00000010.png  \n",
            "  inflating: CK/train/anger/S119_008_00000016.png  \n",
            "  inflating: CK/train/anger/S119_008_00000017.png  \n",
            "  inflating: CK/train/anger/S119_008_00000018.png  \n",
            "  inflating: CK/train/anger/S126_008_00000027.png  \n",
            "  inflating: CK/train/anger/S126_008_00000028.png  \n",
            "  inflating: CK/train/anger/S126_008_00000029.png  \n",
            "  inflating: CK/train/anger/S127_010_00000016.png  \n",
            "  inflating: CK/train/anger/S127_010_00000017.png  \n",
            "  inflating: CK/train/anger/S127_010_00000018.png  \n",
            "  inflating: CK/train/anger/S129_006_00000008.png  \n",
            "  inflating: CK/train/anger/S129_006_00000009.png  \n",
            "  inflating: CK/train/anger/S129_006_00000010.png  \n",
            "  inflating: CK/train/anger/S130_007_00000018.png  \n",
            "  inflating: CK/train/anger/S130_007_00000019.png  \n",
            "  inflating: CK/train/anger/S130_007_00000020.png  \n",
            "  inflating: CK/train/anger/S133_003_00000045.png  \n",
            "  inflating: CK/train/anger/S133_003_00000046.png  \n",
            "  inflating: CK/train/anger/S133_003_00000047.png  \n",
            "  inflating: CK/train/anger/S134_003_00000009.png  \n",
            "  inflating: CK/train/anger/S134_003_00000010.png  \n",
            "  inflating: CK/train/anger/S134_003_00000011.png  \n",
            "  inflating: CK/train/anger/S136_005_00000008.png  \n",
            "  inflating: CK/train/anger/S136_005_00000009.png  \n",
            "  inflating: CK/train/anger/S136_005_00000010.png  \n",
            "  inflating: CK/train/anger/S501_001_00000065.png  \n",
            "  inflating: CK/train/anger/S501_001_00000066.png  \n",
            "  inflating: CK/train/anger/S501_001_00000067.png  \n",
            "  inflating: CK/train/anger/S502_001_00000014.png  \n",
            "  inflating: CK/train/anger/S502_001_00000015.png  \n",
            "  inflating: CK/train/anger/S502_001_00000016.png  \n",
            "  inflating: CK/train/anger/S503_001_00000069.png  \n",
            "  inflating: CK/train/anger/S503_001_00000070.png  \n",
            "  inflating: CK/train/anger/S503_001_00000071.png  \n",
            "  inflating: CK/train/anger/S504_001_00000020.png  \n",
            "  inflating: CK/train/anger/S504_001_00000021.png  \n",
            "  inflating: CK/train/anger/S504_001_00000022.png  \n",
            "  inflating: CK/train/anger/S506_001_00000038.png  \n",
            "  inflating: CK/train/anger/S506_001_00000039.png  \n",
            "  inflating: CK/train/anger/S506_001_00000040.png  \n",
            "  inflating: CK/train/anger/S999_001_00000016.png  \n",
            "  inflating: CK/train/anger/S999_001_00000017.png  \n",
            "  inflating: CK/train/anger/S999_001_00000018.png  \n",
            "   creating: CK/train/contempt/\n",
            "  inflating: CK/train/contempt/S138_008_00000007.png  \n",
            "  inflating: CK/train/contempt/S138_008_00000008.png  \n",
            "  inflating: CK/train/contempt/S138_008_00000009.png  \n",
            "  inflating: CK/train/contempt/S139_002_00000011.png  \n",
            "  inflating: CK/train/contempt/S139_002_00000012.png  \n",
            "  inflating: CK/train/contempt/S139_002_00000013.png  \n",
            "  inflating: CK/train/contempt/S147_002_00000011.png  \n",
            "  inflating: CK/train/contempt/S147_002_00000012.png  \n",
            "  inflating: CK/train/contempt/S147_002_00000013.png  \n",
            "  inflating: CK/train/contempt/S148_002_00000013.png  \n",
            "  inflating: CK/train/contempt/S148_002_00000014.png  \n",
            "  inflating: CK/train/contempt/S148_002_00000015.png  \n",
            "  inflating: CK/train/contempt/S149_002_00000011.png  \n",
            "  inflating: CK/train/contempt/S149_002_00000012.png  \n",
            "  inflating: CK/train/contempt/S149_002_00000013.png  \n",
            "  inflating: CK/train/contempt/S151_002_00000027.png  \n",
            "  inflating: CK/train/contempt/S151_002_00000028.png  \n",
            "  inflating: CK/train/contempt/S151_002_00000029.png  \n",
            "  inflating: CK/train/contempt/S154_002_00000011.png  \n",
            "  inflating: CK/train/contempt/S154_002_00000012.png  \n",
            "  inflating: CK/train/contempt/S154_002_00000013.png  \n",
            "  inflating: CK/train/contempt/S155_002_00000010.png  \n",
            "  inflating: CK/train/contempt/S155_002_00000011.png  \n",
            "  inflating: CK/train/contempt/S155_002_00000012.png  \n",
            "  inflating: CK/train/contempt/S156_002_00000019.png  \n",
            "  inflating: CK/train/contempt/S156_002_00000020.png  \n",
            "  inflating: CK/train/contempt/S156_002_00000021.png  \n",
            "  inflating: CK/train/contempt/S157_002_00000009.png  \n",
            "  inflating: CK/train/contempt/S157_002_00000010.png  \n",
            "  inflating: CK/train/contempt/S157_002_00000011.png  \n",
            "  inflating: CK/train/contempt/S158_002_00000009.png  \n",
            "  inflating: CK/train/contempt/S158_002_00000010.png  \n",
            "  inflating: CK/train/contempt/S158_002_00000011.png  \n",
            "  inflating: CK/train/contempt/S160_006_00000008.png  \n",
            "  inflating: CK/train/contempt/S160_006_00000009.png  \n",
            "  inflating: CK/train/contempt/S160_006_00000010.png  \n",
            "  inflating: CK/train/contempt/S502_002_00000007.png  \n",
            "  inflating: CK/train/contempt/S502_002_00000008.png  \n",
            "  inflating: CK/train/contempt/S502_002_00000009.png  \n",
            "  inflating: CK/train/contempt/S503_002_00000006.png  \n",
            "  inflating: CK/train/contempt/S503_002_00000007.png  \n",
            "  inflating: CK/train/contempt/S503_002_00000008.png  \n",
            "  inflating: CK/train/contempt/S504_002_00000007.png  \n",
            "  inflating: CK/train/contempt/S504_002_00000008.png  \n",
            "  inflating: CK/train/contempt/S504_002_00000009.png  \n",
            "  inflating: CK/train/contempt/S505_002_00000019.png  \n",
            "  inflating: CK/train/contempt/S505_002_00000020.png  \n",
            "  inflating: CK/train/contempt/S505_002_00000021.png  \n",
            "  inflating: CK/train/contempt/S506_002_00000007.png  \n",
            "  inflating: CK/train/contempt/S506_002_00000008.png  \n",
            "  inflating: CK/train/contempt/S506_002_00000009.png  \n",
            "  inflating: CK/train/contempt/S895_002_00000005.png  \n",
            "  inflating: CK/train/contempt/S895_002_00000006.png  \n",
            "  inflating: CK/train/contempt/S895_002_00000007.png  \n",
            "   creating: CK/train/disgust/\n",
            "  inflating: CK/train/disgust/S005_001_00000009.png  \n",
            "  inflating: CK/train/disgust/S005_001_00000010.png  \n",
            "  inflating: CK/train/disgust/S005_001_00000011.png  \n",
            "  inflating: CK/train/disgust/S011_005_00000018.png  \n",
            "  inflating: CK/train/disgust/S011_005_00000019.png  \n",
            "  inflating: CK/train/disgust/S011_005_00000020.png  \n",
            "  inflating: CK/train/disgust/S022_006_00000015.png  \n",
            "  inflating: CK/train/disgust/S022_006_00000016.png  \n",
            "  inflating: CK/train/disgust/S022_006_00000017.png  \n",
            "  inflating: CK/train/disgust/S032_005_00000014.png  \n",
            "  inflating: CK/train/disgust/S032_005_00000015.png  \n",
            "  inflating: CK/train/disgust/S032_005_00000016.png  \n",
            "  inflating: CK/train/disgust/S035_005_00000017.png  \n",
            "  inflating: CK/train/disgust/S035_005_00000018.png  \n",
            "  inflating: CK/train/disgust/S035_005_00000019.png  \n",
            "  inflating: CK/train/disgust/S044_006_00000017.png  \n",
            "  inflating: CK/train/disgust/S044_006_00000018.png  \n",
            "  inflating: CK/train/disgust/S044_006_00000019.png  \n",
            "  inflating: CK/train/disgust/S045_004_00000013.png  \n",
            "  inflating: CK/train/disgust/S045_004_00000014.png  \n",
            "  inflating: CK/train/disgust/S045_004_00000015.png  \n",
            "  inflating: CK/train/disgust/S046_004_00000015.png  \n",
            "  inflating: CK/train/disgust/S046_004_00000016.png  \n",
            "  inflating: CK/train/disgust/S046_004_00000017.png  \n",
            "  inflating: CK/train/disgust/S051_003_00000016.png  \n",
            "  inflating: CK/train/disgust/S051_003_00000017.png  \n",
            "  inflating: CK/train/disgust/S051_003_00000018.png  \n",
            "  inflating: CK/train/disgust/S052_006_00000011.png  \n",
            "  inflating: CK/train/disgust/S052_006_00000012.png  \n",
            "  inflating: CK/train/disgust/S052_006_00000013.png  \n",
            "  inflating: CK/train/disgust/S054_004_00000022.png  \n",
            "  inflating: CK/train/disgust/S054_004_00000023.png  \n",
            "  inflating: CK/train/disgust/S054_004_00000024.png  \n",
            "  inflating: CK/train/disgust/S055_003_00000007.png  \n",
            "  inflating: CK/train/disgust/S055_003_00000008.png  \n",
            "  inflating: CK/train/disgust/S055_003_00000009.png  \n",
            "  inflating: CK/train/disgust/S056_002_00000008.png  \n",
            "  inflating: CK/train/disgust/S056_002_00000009.png  \n",
            "  inflating: CK/train/disgust/S056_002_00000010.png  \n",
            "  inflating: CK/train/disgust/S057_003_00000013.png  \n",
            "  inflating: CK/train/disgust/S057_003_00000014.png  \n",
            "  inflating: CK/train/disgust/S057_003_00000015.png  \n",
            "  inflating: CK/train/disgust/S058_006_00000016.png  \n",
            "  inflating: CK/train/disgust/S058_006_00000017.png  \n",
            "  inflating: CK/train/disgust/S058_006_00000018.png  \n",
            "  inflating: CK/train/disgust/S060_005_00000019.png  \n",
            "  inflating: CK/train/disgust/S060_005_00000020.png  \n",
            "  inflating: CK/train/disgust/S060_005_00000021.png  \n",
            "  inflating: CK/train/disgust/S061_004_00000020.png  \n",
            "  inflating: CK/train/disgust/S061_004_00000021.png  \n",
            "  inflating: CK/train/disgust/S061_004_00000022.png  \n",
            "  inflating: CK/train/disgust/S062_005_00000027.png  \n",
            "  inflating: CK/train/disgust/S062_005_00000028.png  \n",
            "  inflating: CK/train/disgust/S062_005_00000029.png  \n",
            "  inflating: CK/train/disgust/S065_005_00000006.png  \n",
            "  inflating: CK/train/disgust/S065_005_00000007.png  \n",
            "  inflating: CK/train/disgust/S065_005_00000008.png  \n",
            "  inflating: CK/train/disgust/S067_006_00000009.png  \n",
            "  inflating: CK/train/disgust/S067_006_00000010.png  \n",
            "  inflating: CK/train/disgust/S067_006_00000011.png  \n",
            "  inflating: CK/train/disgust/S068_005_00000019.png  \n",
            "  inflating: CK/train/disgust/S068_005_00000020.png  \n",
            "  inflating: CK/train/disgust/S068_005_00000021.png  \n",
            "  inflating: CK/train/disgust/S069_003_00000009.png  \n",
            "  inflating: CK/train/disgust/S069_003_00000010.png  \n",
            "  inflating: CK/train/disgust/S069_003_00000011.png  \n",
            "  inflating: CK/train/disgust/S070_005_00000014.png  \n",
            "  inflating: CK/train/disgust/S070_005_00000015.png  \n",
            "  inflating: CK/train/disgust/S070_005_00000016.png  \n",
            "  inflating: CK/train/disgust/S071_006_00000012.png  \n",
            "  inflating: CK/train/disgust/S071_006_00000013.png  \n",
            "  inflating: CK/train/disgust/S071_006_00000014.png  \n",
            "  inflating: CK/train/disgust/S073_006_00000012.png  \n",
            "  inflating: CK/train/disgust/S073_006_00000013.png  \n",
            "  inflating: CK/train/disgust/S073_006_00000014.png  \n",
            "  inflating: CK/train/disgust/S074_004_00000016.png  \n",
            "  inflating: CK/train/disgust/S074_004_00000017.png  \n",
            "  inflating: CK/train/disgust/S074_004_00000018.png  \n",
            "  inflating: CK/train/disgust/S075_005_00000010.png  \n",
            "  inflating: CK/train/disgust/S075_005_00000011.png  \n",
            "  inflating: CK/train/disgust/S075_005_00000012.png  \n",
            "  inflating: CK/train/disgust/S076_005_00000010.png  \n",
            "  inflating: CK/train/disgust/S076_005_00000011.png  \n",
            "  inflating: CK/train/disgust/S076_005_00000012.png  \n",
            "  inflating: CK/train/disgust/S077_006_00000012.png  \n",
            "  inflating: CK/train/disgust/S077_006_00000013.png  \n",
            "  inflating: CK/train/disgust/S077_006_00000014.png  \n",
            "  inflating: CK/train/disgust/S078_007_00000011.png  \n",
            "  inflating: CK/train/disgust/S078_007_00000012.png  \n",
            "  inflating: CK/train/disgust/S078_007_00000013.png  \n",
            "  inflating: CK/train/disgust/S079_002_00000010.png  \n",
            "  inflating: CK/train/disgust/S079_002_00000011.png  \n",
            "  inflating: CK/train/disgust/S079_002_00000012.png  \n",
            "  inflating: CK/train/disgust/S080_008_00000007.png  \n",
            "  inflating: CK/train/disgust/S080_008_00000008.png  \n",
            "  inflating: CK/train/disgust/S080_008_00000009.png  \n",
            "  inflating: CK/train/disgust/S081_008_00000009.png  \n",
            "  inflating: CK/train/disgust/S081_008_00000010.png  \n",
            "  inflating: CK/train/disgust/S081_008_00000011.png  \n",
            "  inflating: CK/train/disgust/S082_007_00000008.png  \n",
            "  inflating: CK/train/disgust/S082_007_00000009.png  \n",
            "  inflating: CK/train/disgust/S082_007_00000010.png  \n",
            "  inflating: CK/train/disgust/S085_004_00000015.png  \n",
            "  inflating: CK/train/disgust/S085_004_00000016.png  \n",
            "  inflating: CK/train/disgust/S085_004_00000017.png  \n",
            "  inflating: CK/train/disgust/S087_004_00000010.png  \n",
            "  inflating: CK/train/disgust/S087_004_00000011.png  \n",
            "  inflating: CK/train/disgust/S087_004_00000012.png  \n",
            "  inflating: CK/train/disgust/S088_004_00000018.png  \n",
            "  inflating: CK/train/disgust/S088_004_00000019.png  \n",
            "  inflating: CK/train/disgust/S088_004_00000020.png  \n",
            "  inflating: CK/train/disgust/S090_006_00000009.png  \n",
            "  inflating: CK/train/disgust/S090_006_00000010.png  \n",
            "  inflating: CK/train/disgust/S090_006_00000011.png  \n",
            "  inflating: CK/train/disgust/S095_006_00000011.png  \n",
            "  inflating: CK/train/disgust/S095_006_00000012.png  \n",
            "  inflating: CK/train/disgust/S095_006_00000013.png  \n",
            "  inflating: CK/train/disgust/S096_003_00000010.png  \n",
            "  inflating: CK/train/disgust/S096_003_00000011.png  \n",
            "  inflating: CK/train/disgust/S096_003_00000012.png  \n",
            "  inflating: CK/train/disgust/S097_004_00000028.png  \n",
            "  inflating: CK/train/disgust/S097_004_00000029.png  \n",
            "  inflating: CK/train/disgust/S097_004_00000030.png  \n",
            "  inflating: CK/train/disgust/S098_003_00000011.png  \n",
            "  inflating: CK/train/disgust/S098_003_00000012.png  \n",
            "  inflating: CK/train/disgust/S098_003_00000013.png  \n",
            "  inflating: CK/train/disgust/S099_007_00000010.png  \n",
            "  inflating: CK/train/disgust/S099_007_00000011.png  \n",
            "  inflating: CK/train/disgust/S099_007_00000012.png  \n",
            "  inflating: CK/train/disgust/S102_009_00000013.png  \n",
            "  inflating: CK/train/disgust/S102_009_00000014.png  \n",
            "  inflating: CK/train/disgust/S102_009_00000015.png  \n",
            "  inflating: CK/train/disgust/S105_008_00000008.png  \n",
            "  inflating: CK/train/disgust/S105_008_00000009.png  \n",
            "  inflating: CK/train/disgust/S105_008_00000010.png  \n",
            "  inflating: CK/train/disgust/S106_004_00000006.png  \n",
            "  inflating: CK/train/disgust/S106_004_00000007.png  \n",
            "  inflating: CK/train/disgust/S106_004_00000008.png  \n",
            "  inflating: CK/train/disgust/S107_005_00000009.png  \n",
            "  inflating: CK/train/disgust/S107_005_00000010.png  \n",
            "  inflating: CK/train/disgust/S107_005_00000011.png  \n",
            "  inflating: CK/train/disgust/S108_006_00000018.png  \n",
            "  inflating: CK/train/disgust/S108_006_00000019.png  \n",
            "  inflating: CK/train/disgust/S108_006_00000020.png  \n",
            "  inflating: CK/train/disgust/S109_005_00000012.png  \n",
            "  inflating: CK/train/disgust/S109_005_00000013.png  \n",
            "  inflating: CK/train/disgust/S109_005_00000014.png  \n",
            "  inflating: CK/train/disgust/S111_007_00000012.png  \n",
            "  inflating: CK/train/disgust/S111_007_00000013.png  \n",
            "  inflating: CK/train/disgust/S111_007_00000014.png  \n",
            "  inflating: CK/train/disgust/S116_006_00000005.png  \n",
            "  inflating: CK/train/disgust/S116_006_00000006.png  \n",
            "  inflating: CK/train/disgust/S116_006_00000007.png  \n",
            "  inflating: CK/train/disgust/S124_006_00000009.png  \n",
            "  inflating: CK/train/disgust/S124_006_00000010.png  \n",
            "  inflating: CK/train/disgust/S124_006_00000011.png  \n",
            "  inflating: CK/train/disgust/S125_008_00000008.png  \n",
            "  inflating: CK/train/disgust/S125_008_00000009.png  \n",
            "  inflating: CK/train/disgust/S125_008_00000010.png  \n",
            "  inflating: CK/train/disgust/S128_004_00000011.png  \n",
            "  inflating: CK/train/disgust/S128_004_00000012.png  \n",
            "  inflating: CK/train/disgust/S128_004_00000013.png  \n",
            "  inflating: CK/train/disgust/S129_011_00000016.png  \n",
            "  inflating: CK/train/disgust/S129_011_00000017.png  \n",
            "  inflating: CK/train/disgust/S129_011_00000018.png  \n",
            "  inflating: CK/train/disgust/S130_012_00000009.png  \n",
            "  inflating: CK/train/disgust/S130_012_00000010.png  \n",
            "  inflating: CK/train/disgust/S130_012_00000011.png  \n",
            "  inflating: CK/train/disgust/S131_010_00000016.png  \n",
            "  inflating: CK/train/disgust/S131_010_00000017.png  \n",
            "  inflating: CK/train/disgust/S131_010_00000018.png  \n",
            "  inflating: CK/train/disgust/S132_005_00000014.png  \n",
            "  inflating: CK/train/disgust/S132_005_00000015.png  \n",
            "  inflating: CK/train/disgust/S132_005_00000016.png  \n",
            "  inflating: CK/train/disgust/S134_008_00000011.png  \n",
            "  inflating: CK/train/disgust/S134_008_00000012.png  \n",
            "  inflating: CK/train/disgust/S134_008_00000013.png  \n",
            "   creating: CK/train/fear/\n",
            "  inflating: CK/train/fear/S011_003_00000012.png  \n",
            "  inflating: CK/train/fear/S011_003_00000013.png  \n",
            "  inflating: CK/train/fear/S011_003_00000014.png  \n",
            "  inflating: CK/train/fear/S032_004_00000012.png  \n",
            "  inflating: CK/train/fear/S032_004_00000013.png  \n",
            "  inflating: CK/train/fear/S032_004_00000014.png  \n",
            "  inflating: CK/train/fear/S046_003_00000014.png  \n",
            "  inflating: CK/train/fear/S046_003_00000015.png  \n",
            "  inflating: CK/train/fear/S046_003_00000016.png  \n",
            "  inflating: CK/train/fear/S050_001_00000015.png  \n",
            "  inflating: CK/train/fear/S050_001_00000016.png  \n",
            "  inflating: CK/train/fear/S050_001_00000017.png  \n",
            "  inflating: CK/train/fear/S054_002_00000013.png  \n",
            "  inflating: CK/train/fear/S054_002_00000014.png  \n",
            "  inflating: CK/train/fear/S054_002_00000015.png  \n",
            "  inflating: CK/train/fear/S055_006_00000006.png  \n",
            "  inflating: CK/train/fear/S055_006_00000007.png  \n",
            "  inflating: CK/train/fear/S055_006_00000008.png  \n",
            "  inflating: CK/train/fear/S059_002_00000015.png  \n",
            "  inflating: CK/train/fear/S059_002_00000016.png  \n",
            "  inflating: CK/train/fear/S059_002_00000017.png  \n",
            "  inflating: CK/train/fear/S062_001_00000015.png  \n",
            "  inflating: CK/train/fear/S062_001_00000016.png  \n",
            "  inflating: CK/train/fear/S062_001_00000017.png  \n",
            "  inflating: CK/train/fear/S065_002_00000020.png  \n",
            "  inflating: CK/train/fear/S065_002_00000021.png  \n",
            "  inflating: CK/train/fear/S065_002_00000022.png  \n",
            "  inflating: CK/train/fear/S068_004_00000008.png  \n",
            "  inflating: CK/train/fear/S068_004_00000009.png  \n",
            "  inflating: CK/train/fear/S068_004_00000010.png  \n",
            "  inflating: CK/train/fear/S074_001_00000018.png  \n",
            "  inflating: CK/train/fear/S074_001_00000019.png  \n",
            "  inflating: CK/train/fear/S074_001_00000020.png  \n",
            "  inflating: CK/train/fear/S084_002_00000021.png  \n",
            "  inflating: CK/train/fear/S084_002_00000022.png  \n",
            "  inflating: CK/train/fear/S084_002_00000023.png  \n",
            "  inflating: CK/train/fear/S091_001_00000013.png  \n",
            "  inflating: CK/train/fear/S091_001_00000014.png  \n",
            "  inflating: CK/train/fear/S091_001_00000015.png  \n",
            "  inflating: CK/train/fear/S102_003_00000014.png  \n",
            "  inflating: CK/train/fear/S102_003_00000015.png  \n",
            "  inflating: CK/train/fear/S102_003_00000016.png  \n",
            "  inflating: CK/train/fear/S117_003_00000012.png  \n",
            "  inflating: CK/train/fear/S117_003_00000013.png  \n",
            "  inflating: CK/train/fear/S117_003_00000014.png  \n",
            "  inflating: CK/train/fear/S119_003_00000022.png  \n",
            "  inflating: CK/train/fear/S119_003_00000023.png  \n",
            "  inflating: CK/train/fear/S119_003_00000024.png  \n",
            "  inflating: CK/train/fear/S124_003_00000009.png  \n",
            "  inflating: CK/train/fear/S124_003_00000010.png  \n",
            "  inflating: CK/train/fear/S124_003_00000011.png  \n",
            "  inflating: CK/train/fear/S125_006_00000020.png  \n",
            "  inflating: CK/train/fear/S125_006_00000021.png  \n",
            "  inflating: CK/train/fear/S125_006_00000022.png  \n",
            "  inflating: CK/train/fear/S132_003_00000021.png  \n",
            "  inflating: CK/train/fear/S132_003_00000022.png  \n",
            "  inflating: CK/train/fear/S132_003_00000023.png  \n",
            "  inflating: CK/train/fear/S138_001_00000010.png  \n",
            "  inflating: CK/train/fear/S138_001_00000011.png  \n",
            "  inflating: CK/train/fear/S138_001_00000012.png  \n",
            "  inflating: CK/train/fear/S501_004_00000054.png  \n",
            "  inflating: CK/train/fear/S501_004_00000055.png  \n",
            "  inflating: CK/train/fear/S501_004_00000056.png  \n",
            "  inflating: CK/train/fear/S502_004_00000050.png  \n",
            "  inflating: CK/train/fear/S502_004_00000051.png  \n",
            "  inflating: CK/train/fear/S502_004_00000052.png  \n",
            "  inflating: CK/train/fear/S504_004_00000013.png  \n",
            "  inflating: CK/train/fear/S504_004_00000014.png  \n",
            "  inflating: CK/train/fear/S504_004_00000015.png  \n",
            "  inflating: CK/train/fear/S506_004_00000036.png  \n",
            "  inflating: CK/train/fear/S506_004_00000037.png  \n",
            "  inflating: CK/train/fear/S506_004_00000038.png  \n",
            "  inflating: CK/train/fear/S999_003_00000053.png  \n",
            "  inflating: CK/train/fear/S999_003_00000054.png  \n",
            "  inflating: CK/train/fear/S999_003_00000055.png  \n",
            "   creating: CK/train/happy/\n",
            "  inflating: CK/train/happy/S010_006_00000013.png  \n",
            "  inflating: CK/train/happy/S010_006_00000014.png  \n",
            "  inflating: CK/train/happy/S010_006_00000015.png  \n",
            "  inflating: CK/train/happy/S011_006_00000011.png  \n",
            "  inflating: CK/train/happy/S011_006_00000012.png  \n",
            "  inflating: CK/train/happy/S011_006_00000013.png  \n",
            "  inflating: CK/train/happy/S014_005_00000015.png  \n",
            "  inflating: CK/train/happy/S014_005_00000016.png  \n",
            "  inflating: CK/train/happy/S014_005_00000017.png  \n",
            "  inflating: CK/train/happy/S026_006_00000011.png  \n",
            "  inflating: CK/train/happy/S026_006_00000012.png  \n",
            "  inflating: CK/train/happy/S026_006_00000013.png  \n",
            "  inflating: CK/train/happy/S032_006_00000014.png  \n",
            "  inflating: CK/train/happy/S032_006_00000015.png  \n",
            "  inflating: CK/train/happy/S032_006_00000016.png  \n",
            "  inflating: CK/train/happy/S034_005_00000008.png  \n",
            "  inflating: CK/train/happy/S034_005_00000009.png  \n",
            "  inflating: CK/train/happy/S034_005_00000010.png  \n",
            "  inflating: CK/train/happy/S035_006_00000016.png  \n",
            "  inflating: CK/train/happy/S035_006_00000017.png  \n",
            "  inflating: CK/train/happy/S035_006_00000018.png  \n",
            "  inflating: CK/train/happy/S037_006_00000019.png  \n",
            "  inflating: CK/train/happy/S037_006_00000020.png  \n",
            "  inflating: CK/train/happy/S037_006_00000021.png  \n",
            "  inflating: CK/train/happy/S042_006_00000015.png  \n",
            "  inflating: CK/train/happy/S042_006_00000016.png  \n",
            "  inflating: CK/train/happy/S042_006_00000017.png  \n",
            "  inflating: CK/train/happy/S044_003_00000012.png  \n",
            "  inflating: CK/train/happy/S044_003_00000013.png  \n",
            "  inflating: CK/train/happy/S044_003_00000014.png  \n",
            "  inflating: CK/train/happy/S050_006_00000021.png  \n",
            "  inflating: CK/train/happy/S050_006_00000022.png  \n",
            "  inflating: CK/train/happy/S050_006_00000023.png  \n",
            "  inflating: CK/train/happy/S052_004_00000031.png  \n",
            "  inflating: CK/train/happy/S052_004_00000032.png  \n",
            "  inflating: CK/train/happy/S052_004_00000033.png  \n",
            "  inflating: CK/train/happy/S053_004_00000022.png  \n",
            "  inflating: CK/train/happy/S053_004_00000023.png  \n",
            "  inflating: CK/train/happy/S053_004_00000024.png  \n",
            "  inflating: CK/train/happy/S055_005_00000043.png  \n",
            "  inflating: CK/train/happy/S055_005_00000044.png  \n",
            "  inflating: CK/train/happy/S055_005_00000045.png  \n",
            "  inflating: CK/train/happy/S056_004_00000018.png  \n",
            "  inflating: CK/train/happy/S056_004_00000019.png  \n",
            "  inflating: CK/train/happy/S056_004_00000020.png  \n",
            "  inflating: CK/train/happy/S057_006_00000031.png  \n",
            "  inflating: CK/train/happy/S057_006_00000032.png  \n",
            "  inflating: CK/train/happy/S057_006_00000033.png  \n",
            "  inflating: CK/train/happy/S060_002_00000024.png  \n",
            "  inflating: CK/train/happy/S060_002_00000025.png  \n",
            "  inflating: CK/train/happy/S060_002_00000026.png  \n",
            "  inflating: CK/train/happy/S061_002_00000013.png  \n",
            "  inflating: CK/train/happy/S061_002_00000014.png  \n",
            "  inflating: CK/train/happy/S061_002_00000015.png  \n",
            "  inflating: CK/train/happy/S062_004_00000022.png  \n",
            "  inflating: CK/train/happy/S062_004_00000023.png  \n",
            "  inflating: CK/train/happy/S062_004_00000024.png  \n",
            "  inflating: CK/train/happy/S063_002_00000021.png  \n",
            "  inflating: CK/train/happy/S063_002_00000022.png  \n",
            "  inflating: CK/train/happy/S063_002_00000023.png  \n",
            "  inflating: CK/train/happy/S064_003_00000023.png  \n",
            "  inflating: CK/train/happy/S064_003_00000024.png  \n",
            "  inflating: CK/train/happy/S064_003_00000025.png  \n",
            "  inflating: CK/train/happy/S065_004_00000026.png  \n",
            "  inflating: CK/train/happy/S065_004_00000027.png  \n",
            "  inflating: CK/train/happy/S065_004_00000028.png  \n",
            "  inflating: CK/train/happy/S066_003_00000010.png  \n",
            "  inflating: CK/train/happy/S066_003_00000011.png  \n",
            "  inflating: CK/train/happy/S066_003_00000012.png  \n",
            "  inflating: CK/train/happy/S067_005_00000020.png  \n",
            "  inflating: CK/train/happy/S067_005_00000021.png  \n",
            "  inflating: CK/train/happy/S067_005_00000022.png  \n",
            "  inflating: CK/train/happy/S068_002_00000013.png  \n",
            "  inflating: CK/train/happy/S068_002_00000014.png  \n",
            "  inflating: CK/train/happy/S068_002_00000015.png  \n",
            "  inflating: CK/train/happy/S069_004_00000015.png  \n",
            "  inflating: CK/train/happy/S069_004_00000016.png  \n",
            "  inflating: CK/train/happy/S069_004_00000017.png  \n",
            "  inflating: CK/train/happy/S070_003_00000015.png  \n",
            "  inflating: CK/train/happy/S070_003_00000016.png  \n",
            "  inflating: CK/train/happy/S070_003_00000017.png  \n",
            "  inflating: CK/train/happy/S071_005_00000019.png  \n",
            "  inflating: CK/train/happy/S071_005_00000020.png  \n",
            "  inflating: CK/train/happy/S071_005_00000021.png  \n",
            "  inflating: CK/train/happy/S072_006_00000020.png  \n",
            "  inflating: CK/train/happy/S072_006_00000021.png  \n",
            "  inflating: CK/train/happy/S072_006_00000022.png  \n",
            "  inflating: CK/train/happy/S074_005_00000041.png  \n",
            "  inflating: CK/train/happy/S074_005_00000042.png  \n",
            "  inflating: CK/train/happy/S074_005_00000043.png  \n",
            "  inflating: CK/train/happy/S075_006_00000023.png  \n",
            "  inflating: CK/train/happy/S075_006_00000024.png  \n",
            "  inflating: CK/train/happy/S075_006_00000025.png  \n",
            "  inflating: CK/train/happy/S076_006_00000017.png  \n",
            "  inflating: CK/train/happy/S076_006_00000018.png  \n",
            "  inflating: CK/train/happy/S076_006_00000019.png  \n",
            "  inflating: CK/train/happy/S078_004_00000025.png  \n",
            "  inflating: CK/train/happy/S078_004_00000026.png  \n",
            "  inflating: CK/train/happy/S078_004_00000027.png  \n",
            "  inflating: CK/train/happy/S079_004_00000024.png  \n",
            "  inflating: CK/train/happy/S079_004_00000025.png  \n",
            "  inflating: CK/train/happy/S079_004_00000026.png  \n",
            "  inflating: CK/train/happy/S083_003_00000017.png  \n",
            "  inflating: CK/train/happy/S083_003_00000018.png  \n",
            "  inflating: CK/train/happy/S083_003_00000019.png  \n",
            "  inflating: CK/train/happy/S085_002_00000012.png  \n",
            "  inflating: CK/train/happy/S085_002_00000013.png  \n",
            "  inflating: CK/train/happy/S085_002_00000014.png  \n",
            "  inflating: CK/train/happy/S086_002_00000013.png  \n",
            "  inflating: CK/train/happy/S086_002_00000014.png  \n",
            "  inflating: CK/train/happy/S086_002_00000015.png  \n",
            "  inflating: CK/train/happy/S087_005_00000010.png  \n",
            "  inflating: CK/train/happy/S087_005_00000011.png  \n",
            "  inflating: CK/train/happy/S087_005_00000012.png  \n",
            "  inflating: CK/train/happy/S089_002_00000019.png  \n",
            "  inflating: CK/train/happy/S089_002_00000020.png  \n",
            "  inflating: CK/train/happy/S089_002_00000021.png  \n",
            "  inflating: CK/train/happy/S091_003_00000019.png  \n",
            "  inflating: CK/train/happy/S091_003_00000020.png  \n",
            "  inflating: CK/train/happy/S091_003_00000021.png  \n",
            "  inflating: CK/train/happy/S092_004_00000022.png  \n",
            "  inflating: CK/train/happy/S092_004_00000023.png  \n",
            "  inflating: CK/train/happy/S092_004_00000024.png  \n",
            "  inflating: CK/train/happy/S093_004_00000014.png  \n",
            "  inflating: CK/train/happy/S093_004_00000015.png  \n",
            "  inflating: CK/train/happy/S093_004_00000016.png  \n",
            "  inflating: CK/train/happy/S094_004_00000010.png  \n",
            "  inflating: CK/train/happy/S094_004_00000011.png  \n",
            "  inflating: CK/train/happy/S094_004_00000012.png  \n",
            "  inflating: CK/train/happy/S095_007_00000019.png  \n",
            "  inflating: CK/train/happy/S095_007_00000020.png  \n",
            "  inflating: CK/train/happy/S095_007_00000021.png  \n",
            "  inflating: CK/train/happy/S096_004_00000009.png  \n",
            "  inflating: CK/train/happy/S096_004_00000010.png  \n",
            "  inflating: CK/train/happy/S096_004_00000011.png  \n",
            "  inflating: CK/train/happy/S097_006_00000017.png  \n",
            "  inflating: CK/train/happy/S097_006_00000018.png  \n",
            "  inflating: CK/train/happy/S097_006_00000019.png  \n",
            "  inflating: CK/train/happy/S098_004_00000013.png  \n",
            "  inflating: CK/train/happy/S098_004_00000014.png  \n",
            "  inflating: CK/train/happy/S098_004_00000015.png  \n",
            "  inflating: CK/train/happy/S099_004_00000013.png  \n",
            "  inflating: CK/train/happy/S099_004_00000014.png  \n",
            "  inflating: CK/train/happy/S099_004_00000015.png  \n",
            "  inflating: CK/train/happy/S100_006_00000014.png  \n",
            "  inflating: CK/train/happy/S100_006_00000015.png  \n",
            "  inflating: CK/train/happy/S100_006_00000016.png  \n",
            "  inflating: CK/train/happy/S106_006_00000009.png  \n",
            "  inflating: CK/train/happy/S106_006_00000010.png  \n",
            "  inflating: CK/train/happy/S106_006_00000011.png  \n",
            "  inflating: CK/train/happy/S108_008_00000011.png  \n",
            "  inflating: CK/train/happy/S108_008_00000012.png  \n",
            "  inflating: CK/train/happy/S108_008_00000013.png  \n",
            "  inflating: CK/train/happy/S109_006_00000013.png  \n",
            "  inflating: CK/train/happy/S109_006_00000014.png  \n",
            "  inflating: CK/train/happy/S109_006_00000015.png  \n",
            "  inflating: CK/train/happy/S114_006_00000021.png  \n",
            "  inflating: CK/train/happy/S114_006_00000022.png  \n",
            "  inflating: CK/train/happy/S114_006_00000023.png  \n",
            "  inflating: CK/train/happy/S115_008_00000015.png  \n",
            "  inflating: CK/train/happy/S115_008_00000016.png  \n",
            "  inflating: CK/train/happy/S115_008_00000017.png  \n",
            "  inflating: CK/train/happy/S116_007_00000015.png  \n",
            "  inflating: CK/train/happy/S116_007_00000016.png  \n",
            "  inflating: CK/train/happy/S116_007_00000017.png  \n",
            "  inflating: CK/train/happy/S124_007_00000022.png  \n",
            "  inflating: CK/train/happy/S124_007_00000023.png  \n",
            "  inflating: CK/train/happy/S124_007_00000024.png  \n",
            "  inflating: CK/train/happy/S125_005_00000011.png  \n",
            "  inflating: CK/train/happy/S125_005_00000012.png  \n",
            "  inflating: CK/train/happy/S125_005_00000013.png  \n",
            "  inflating: CK/train/happy/S127_004_00000014.png  \n",
            "  inflating: CK/train/happy/S127_004_00000015.png  \n",
            "  inflating: CK/train/happy/S127_004_00000016.png  \n",
            "  inflating: CK/train/happy/S128_011_00000014.png  \n",
            "  inflating: CK/train/happy/S128_011_00000015.png  \n",
            "  inflating: CK/train/happy/S128_011_00000016.png  \n",
            "  inflating: CK/train/happy/S129_012_00000009.png  \n",
            "  inflating: CK/train/happy/S129_012_00000010.png  \n",
            "  inflating: CK/train/happy/S129_012_00000011.png  \n",
            "  inflating: CK/train/happy/S130_013_00000013.png  \n",
            "  inflating: CK/train/happy/S130_013_00000014.png  \n",
            "  inflating: CK/train/happy/S130_013_00000015.png  \n",
            "  inflating: CK/train/happy/S131_006_00000020.png  \n",
            "  inflating: CK/train/happy/S131_006_00000021.png  \n",
            "  inflating: CK/train/happy/S131_006_00000022.png  \n",
            "  inflating: CK/train/happy/S132_006_00000021.png  \n",
            "  inflating: CK/train/happy/S132_006_00000022.png  \n",
            "  inflating: CK/train/happy/S132_006_00000023.png  \n",
            "  inflating: CK/train/happy/S133_010_00000012.png  \n",
            "  inflating: CK/train/happy/S133_010_00000013.png  \n",
            "  inflating: CK/train/happy/S133_010_00000014.png  \n",
            "  inflating: CK/train/happy/S134_004_00000013.png  \n",
            "  inflating: CK/train/happy/S134_004_00000014.png  \n",
            "  inflating: CK/train/happy/S134_004_00000015.png  \n",
            "  inflating: CK/train/happy/S135_012_00000018.png  \n",
            "  inflating: CK/train/happy/S135_012_00000019.png  \n",
            "  inflating: CK/train/happy/S135_012_00000020.png  \n",
            "  inflating: CK/train/happy/S136_006_00000018.png  \n",
            "  inflating: CK/train/happy/S136_006_00000019.png  \n",
            "  inflating: CK/train/happy/S136_006_00000020.png  \n",
            "  inflating: CK/train/happy/S137_011_00000018.png  \n",
            "  inflating: CK/train/happy/S137_011_00000019.png  \n",
            "  inflating: CK/train/happy/S137_011_00000020.png  \n",
            "  inflating: CK/train/happy/S138_005_00000014.png  \n",
            "  inflating: CK/train/happy/S138_005_00000015.png  \n",
            "  inflating: CK/train/happy/S138_005_00000016.png  \n",
            "   creating: CK/train/sadness/\n",
            "  inflating: CK/train/sadness/S011_002_00000020.png  \n",
            "  inflating: CK/train/sadness/S011_002_00000021.png  \n",
            "  inflating: CK/train/sadness/S011_002_00000022.png  \n",
            "  inflating: CK/train/sadness/S014_002_00000014.png  \n",
            "  inflating: CK/train/sadness/S014_002_00000015.png  \n",
            "  inflating: CK/train/sadness/S014_002_00000016.png  \n",
            "  inflating: CK/train/sadness/S026_002_00000014.png  \n",
            "  inflating: CK/train/sadness/S026_002_00000015.png  \n",
            "  inflating: CK/train/sadness/S026_002_00000016.png  \n",
            "  inflating: CK/train/sadness/S042_002_00000014.png  \n",
            "  inflating: CK/train/sadness/S042_002_00000015.png  \n",
            "  inflating: CK/train/sadness/S042_002_00000016.png  \n",
            "  inflating: CK/train/sadness/S046_001_00000023.png  \n",
            "  inflating: CK/train/sadness/S046_001_00000024.png  \n",
            "  inflating: CK/train/sadness/S046_001_00000025.png  \n",
            "  inflating: CK/train/sadness/S064_004_00000012.png  \n",
            "  inflating: CK/train/sadness/S064_004_00000013.png  \n",
            "  inflating: CK/train/sadness/S064_004_00000014.png  \n",
            "  inflating: CK/train/sadness/S066_004_00000008.png  \n",
            "  inflating: CK/train/sadness/S066_004_00000009.png  \n",
            "  inflating: CK/train/sadness/S066_004_00000010.png  \n",
            "  inflating: CK/train/sadness/S071_002_00000018.png  \n",
            "  inflating: CK/train/sadness/S071_002_00000019.png  \n",
            "  inflating: CK/train/sadness/S071_002_00000020.png  \n",
            "  inflating: CK/train/sadness/S080_005_00000011.png  \n",
            "  inflating: CK/train/sadness/S080_005_00000012.png  \n",
            "  inflating: CK/train/sadness/S080_005_00000013.png  \n",
            "  inflating: CK/train/sadness/S081_002_00000022.png  \n",
            "  inflating: CK/train/sadness/S081_002_00000023.png  \n",
            "  inflating: CK/train/sadness/S081_002_00000024.png  \n",
            "  inflating: CK/train/sadness/S093_001_00000018.png  \n",
            "  inflating: CK/train/sadness/S093_001_00000019.png  \n",
            "  inflating: CK/train/sadness/S093_001_00000020.png  \n",
            "  inflating: CK/train/sadness/S095_010_00000012.png  \n",
            "  inflating: CK/train/sadness/S095_010_00000013.png  \n",
            "  inflating: CK/train/sadness/S095_010_00000014.png  \n",
            "  inflating: CK/train/sadness/S106_002_00000014.png  \n",
            "  inflating: CK/train/sadness/S106_002_00000015.png  \n",
            "  inflating: CK/train/sadness/S106_002_00000016.png  \n",
            "  inflating: CK/train/sadness/S108_005_00000020.png  \n",
            "  inflating: CK/train/sadness/S108_005_00000021.png  \n",
            "  inflating: CK/train/sadness/S108_005_00000022.png  \n",
            "  inflating: CK/train/sadness/S113_003_00000013.png  \n",
            "  inflating: CK/train/sadness/S113_003_00000014.png  \n",
            "  inflating: CK/train/sadness/S113_003_00000015.png  \n",
            "  inflating: CK/train/sadness/S115_004_00000015.png  \n",
            "  inflating: CK/train/sadness/S115_004_00000016.png  \n",
            "  inflating: CK/train/sadness/S115_004_00000017.png  \n",
            "  inflating: CK/train/sadness/S125_001_00000012.png  \n",
            "  inflating: CK/train/sadness/S125_001_00000013.png  \n",
            "  inflating: CK/train/sadness/S125_001_00000014.png  \n",
            "  inflating: CK/train/sadness/S130_009_00000017.png  \n",
            "  inflating: CK/train/sadness/S130_009_00000018.png  \n",
            "  inflating: CK/train/sadness/S130_009_00000019.png  \n",
            "  inflating: CK/train/sadness/S131_003_00000022.png  \n",
            "  inflating: CK/train/sadness/S131_003_00000023.png  \n",
            "  inflating: CK/train/sadness/S131_003_00000024.png  \n",
            "  inflating: CK/train/sadness/S132_002_00000016.png  \n",
            "  inflating: CK/train/sadness/S132_002_00000017.png  \n",
            "  inflating: CK/train/sadness/S132_002_00000018.png  \n",
            "  inflating: CK/train/sadness/S136_003_00000012.png  \n",
            "  inflating: CK/train/sadness/S136_003_00000013.png  \n",
            "  inflating: CK/train/sadness/S136_003_00000014.png  \n",
            "  inflating: CK/train/sadness/S137_005_00000025.png  \n",
            "  inflating: CK/train/sadness/S137_005_00000026.png  \n",
            "  inflating: CK/train/sadness/S137_005_00000027.png  \n",
            "  inflating: CK/train/sadness/S138_007_00000009.png  \n",
            "  inflating: CK/train/sadness/S138_007_00000010.png  \n",
            "  inflating: CK/train/sadness/S138_007_00000011.png  \n",
            "  inflating: CK/train/sadness/S501_006_00000039.png  \n",
            "  inflating: CK/train/sadness/S501_006_00000040.png  \n",
            "  inflating: CK/train/sadness/S501_006_00000041.png  \n",
            "  inflating: CK/train/sadness/S503_006_00000018.png  \n",
            "  inflating: CK/train/sadness/S503_006_00000019.png  \n",
            "  inflating: CK/train/sadness/S503_006_00000020.png  \n",
            "  inflating: CK/train/sadness/S504_006_00000016.png  \n",
            "  inflating: CK/train/sadness/S504_006_00000017.png  \n",
            "  inflating: CK/train/sadness/S504_006_00000018.png  \n",
            "  inflating: CK/train/sadness/S505_006_00000017.png  \n",
            "  inflating: CK/train/sadness/S505_006_00000018.png  \n",
            "  inflating: CK/train/sadness/S505_006_00000019.png  \n",
            "  inflating: CK/train/sadness/S506_006_00000040.png  \n",
            "  inflating: CK/train/sadness/S506_006_00000041.png  \n",
            "  inflating: CK/train/sadness/S506_006_00000042.png  \n",
            "   creating: CK/train/surprise/\n",
            "  inflating: CK/train/surprise/S010_002_00000012.png  \n",
            "  inflating: CK/train/surprise/S010_002_00000013.png  \n",
            "  inflating: CK/train/surprise/S010_002_00000014.png  \n",
            "  inflating: CK/train/surprise/S011_001_00000014.png  \n",
            "  inflating: CK/train/surprise/S011_001_00000015.png  \n",
            "  inflating: CK/train/surprise/S011_001_00000016.png  \n",
            "  inflating: CK/train/surprise/S014_001_00000027.png  \n",
            "  inflating: CK/train/surprise/S014_001_00000028.png  \n",
            "  inflating: CK/train/surprise/S014_001_00000029.png  \n",
            "  inflating: CK/train/surprise/S022_001_00000028.png  \n",
            "  inflating: CK/train/surprise/S022_001_00000029.png  \n",
            "  inflating: CK/train/surprise/S022_001_00000030.png  \n",
            "  inflating: CK/train/surprise/S026_001_00000013.png  \n",
            "  inflating: CK/train/surprise/S026_001_00000014.png  \n",
            "  inflating: CK/train/surprise/S026_001_00000015.png  \n",
            "  inflating: CK/train/surprise/S032_001_00000020.png  \n",
            "  inflating: CK/train/surprise/S032_001_00000021.png  \n",
            "  inflating: CK/train/surprise/S032_001_00000022.png  \n",
            "  inflating: CK/train/surprise/S034_001_00000027.png  \n",
            "  inflating: CK/train/surprise/S034_001_00000028.png  \n",
            "  inflating: CK/train/surprise/S034_001_00000029.png  \n",
            "  inflating: CK/train/surprise/S035_001_00000013.png  \n",
            "  inflating: CK/train/surprise/S035_001_00000014.png  \n",
            "  inflating: CK/train/surprise/S035_001_00000015.png  \n",
            "  inflating: CK/train/surprise/S037_001_00000018.png  \n",
            "  inflating: CK/train/surprise/S037_001_00000019.png  \n",
            "  inflating: CK/train/surprise/S037_001_00000020.png  \n",
            "  inflating: CK/train/surprise/S042_001_00000017.png  \n",
            "  inflating: CK/train/surprise/S042_001_00000018.png  \n",
            "  inflating: CK/train/surprise/S042_001_00000019.png  \n",
            "  inflating: CK/train/surprise/S044_001_00000022.png  \n",
            "  inflating: CK/train/surprise/S044_001_00000023.png  \n",
            "  inflating: CK/train/surprise/S044_001_00000024.png  \n",
            "  inflating: CK/train/surprise/S046_002_00000004.png  \n",
            "  inflating: CK/train/surprise/S046_002_00000005.png  \n",
            "  inflating: CK/train/surprise/S046_002_00000006.png  \n",
            "  inflating: CK/train/surprise/S050_002_00000016.png  \n",
            "  inflating: CK/train/surprise/S050_002_00000017.png  \n",
            "  inflating: CK/train/surprise/S050_002_00000018.png  \n",
            "  inflating: CK/train/surprise/S051_002_00000017.png  \n",
            "  inflating: CK/train/surprise/S051_002_00000018.png  \n",
            "  inflating: CK/train/surprise/S051_002_00000019.png  \n",
            "  inflating: CK/train/surprise/S052_001_00000013.png  \n",
            "  inflating: CK/train/surprise/S052_001_00000014.png  \n",
            "  inflating: CK/train/surprise/S052_001_00000015.png  \n",
            "  inflating: CK/train/surprise/S053_001_00000021.png  \n",
            "  inflating: CK/train/surprise/S053_001_00000022.png  \n",
            "  inflating: CK/train/surprise/S053_001_00000023.png  \n",
            "  inflating: CK/train/surprise/S054_003_00000005.png  \n",
            "  inflating: CK/train/surprise/S054_003_00000006.png  \n",
            "  inflating: CK/train/surprise/S054_003_00000007.png  \n",
            "  inflating: CK/train/surprise/S055_001_00000010.png  \n",
            "  inflating: CK/train/surprise/S055_001_00000011.png  \n",
            "  inflating: CK/train/surprise/S055_001_00000012.png  \n",
            "  inflating: CK/train/surprise/S056_003_00000008.png  \n",
            "  inflating: CK/train/surprise/S056_003_00000009.png  \n",
            "  inflating: CK/train/surprise/S056_003_00000010.png  \n",
            "  inflating: CK/train/surprise/S057_001_00000017.png  \n",
            "  inflating: CK/train/surprise/S057_001_00000018.png  \n",
            "  inflating: CK/train/surprise/S057_001_00000019.png  \n",
            "  inflating: CK/train/surprise/S058_001_00000018.png  \n",
            "  inflating: CK/train/surprise/S058_001_00000019.png  \n",
            "  inflating: CK/train/surprise/S058_001_00000020.png  \n",
            "  inflating: CK/train/surprise/S059_001_00000016.png  \n",
            "  inflating: CK/train/surprise/S059_001_00000017.png  \n",
            "  inflating: CK/train/surprise/S059_001_00000018.png  \n",
            "  inflating: CK/train/surprise/S060_003_00000016.png  \n",
            "  inflating: CK/train/surprise/S060_003_00000017.png  \n",
            "  inflating: CK/train/surprise/S060_003_00000018.png  \n",
            "  inflating: CK/train/surprise/S061_001_00000010.png  \n",
            "  inflating: CK/train/surprise/S061_001_00000011.png  \n",
            "  inflating: CK/train/surprise/S061_001_00000012.png  \n",
            "  inflating: CK/train/surprise/S062_002_00000014.png  \n",
            "  inflating: CK/train/surprise/S062_002_00000015.png  \n",
            "  inflating: CK/train/surprise/S062_002_00000016.png  \n",
            "  inflating: CK/train/surprise/S063_001_00000011.png  \n",
            "  inflating: CK/train/surprise/S063_001_00000012.png  \n",
            "  inflating: CK/train/surprise/S063_001_00000013.png  \n",
            "  inflating: CK/train/surprise/S064_001_00000010.png  \n",
            "  inflating: CK/train/surprise/S064_001_00000011.png  \n",
            "  inflating: CK/train/surprise/S064_001_00000012.png  \n",
            "  inflating: CK/train/surprise/S065_003_00000020.png  \n",
            "  inflating: CK/train/surprise/S065_003_00000021.png  \n",
            "  inflating: CK/train/surprise/S065_003_00000022.png  \n",
            "  inflating: CK/train/surprise/S066_002_00000020.png  \n",
            "  inflating: CK/train/surprise/S066_002_00000021.png  \n",
            "  inflating: CK/train/surprise/S066_002_00000022.png  \n",
            "  inflating: CK/train/surprise/S067_002_00000012.png  \n",
            "  inflating: CK/train/surprise/S067_002_00000013.png  \n",
            "  inflating: CK/train/surprise/S067_002_00000014.png  \n",
            "  inflating: CK/train/surprise/S068_003_00000012.png  \n",
            "  inflating: CK/train/surprise/S068_003_00000013.png  \n",
            "  inflating: CK/train/surprise/S068_003_00000014.png  \n",
            "  inflating: CK/train/surprise/S069_002_00000012.png  \n",
            "  inflating: CK/train/surprise/S069_002_00000013.png  \n",
            "  inflating: CK/train/surprise/S069_002_00000014.png  \n",
            "  inflating: CK/train/surprise/S070_002_00000014.png  \n",
            "  inflating: CK/train/surprise/S070_002_00000015.png  \n",
            "  inflating: CK/train/surprise/S070_002_00000016.png  \n",
            "  inflating: CK/train/surprise/S071_001_00000011.png  \n",
            "  inflating: CK/train/surprise/S071_001_00000012.png  \n",
            "  inflating: CK/train/surprise/S071_001_00000013.png  \n",
            "  inflating: CK/train/surprise/S073_001_00000011.png  \n",
            "  inflating: CK/train/surprise/S073_001_00000012.png  \n",
            "  inflating: CK/train/surprise/S073_001_00000013.png  \n",
            "  inflating: CK/train/surprise/S074_002_00000014.png  \n",
            "  inflating: CK/train/surprise/S074_002_00000015.png  \n",
            "  inflating: CK/train/surprise/S074_002_00000016.png  \n",
            "  inflating: CK/train/surprise/S075_002_00000012.png  \n",
            "  inflating: CK/train/surprise/S075_002_00000013.png  \n",
            "  inflating: CK/train/surprise/S075_002_00000014.png  \n",
            "  inflating: CK/train/surprise/S076_001_00000015.png  \n",
            "  inflating: CK/train/surprise/S076_001_00000016.png  \n",
            "  inflating: CK/train/surprise/S076_001_00000017.png  \n",
            "  inflating: CK/train/surprise/S077_001_00000026.png  \n",
            "  inflating: CK/train/surprise/S077_001_00000027.png  \n",
            "  inflating: CK/train/surprise/S077_001_00000028.png  \n",
            "  inflating: CK/train/surprise/S078_001_00000031.png  \n",
            "  inflating: CK/train/surprise/S078_001_00000032.png  \n",
            "  inflating: CK/train/surprise/S078_001_00000033.png  \n",
            "  inflating: CK/train/surprise/S079_001_00000010.png  \n",
            "  inflating: CK/train/surprise/S079_001_00000011.png  \n",
            "  inflating: CK/train/surprise/S079_001_00000012.png  \n",
            "  inflating: CK/train/surprise/S080_001_00000016.png  \n",
            "  inflating: CK/train/surprise/S080_001_00000017.png  \n",
            "  inflating: CK/train/surprise/S080_001_00000018.png  \n",
            "  inflating: CK/train/surprise/S081_001_00000017.png  \n",
            "  inflating: CK/train/surprise/S081_001_00000018.png  \n",
            "  inflating: CK/train/surprise/S081_001_00000019.png  \n",
            "  inflating: CK/train/surprise/S082_001_00000013.png  \n",
            "  inflating: CK/train/surprise/S082_001_00000014.png  \n",
            "  inflating: CK/train/surprise/S082_001_00000015.png  \n",
            "  inflating: CK/train/surprise/S084_001_00000008.png  \n",
            "  inflating: CK/train/surprise/S084_001_00000009.png  \n",
            "  inflating: CK/train/surprise/S084_001_00000010.png  \n",
            "  inflating: CK/train/surprise/S085_003_00000011.png  \n",
            "  inflating: CK/train/surprise/S085_003_00000012.png  \n",
            "  inflating: CK/train/surprise/S085_003_00000013.png  \n",
            "  inflating: CK/train/surprise/S086_001_00000017.png  \n",
            "  inflating: CK/train/surprise/S086_001_00000018.png  \n",
            "  inflating: CK/train/surprise/S086_001_00000019.png  \n",
            "  inflating: CK/train/surprise/S087_001_00000009.png  \n",
            "  inflating: CK/train/surprise/S087_001_00000010.png  \n",
            "  inflating: CK/train/surprise/S087_001_00000011.png  \n",
            "  inflating: CK/train/surprise/S088_001_00000015.png  \n",
            "  inflating: CK/train/surprise/S088_001_00000016.png  \n",
            "  inflating: CK/train/surprise/S088_001_00000017.png  \n",
            "  inflating: CK/train/surprise/S089_001_00000014.png  \n",
            "  inflating: CK/train/surprise/S089_001_00000015.png  \n",
            "  inflating: CK/train/surprise/S089_001_00000016.png  \n",
            "  inflating: CK/train/surprise/S090_002_00000009.png  \n",
            "  inflating: CK/train/surprise/S090_002_00000010.png  \n",
            "  inflating: CK/train/surprise/S090_002_00000011.png  \n",
            "  inflating: CK/train/surprise/S092_001_00000015.png  \n",
            "  inflating: CK/train/surprise/S092_001_00000016.png  \n",
            "  inflating: CK/train/surprise/S092_001_00000017.png  \n",
            "  inflating: CK/train/surprise/S094_001_00000008.png  \n",
            "  inflating: CK/train/surprise/S094_001_00000009.png  \n",
            "  inflating: CK/train/surprise/S094_001_00000010.png  \n",
            "  inflating: CK/train/surprise/S095_001_00000014.png  \n",
            "  inflating: CK/train/surprise/S095_001_00000015.png  \n",
            "  inflating: CK/train/surprise/S095_001_00000016.png  \n",
            "  inflating: CK/train/surprise/S096_001_00000005.png  \n",
            "  inflating: CK/train/surprise/S096_001_00000006.png  \n",
            "  inflating: CK/train/surprise/S096_001_00000007.png  \n",
            "  inflating: CK/train/surprise/S097_001_00000019.png  \n",
            "  inflating: CK/train/surprise/S097_001_00000020.png  \n",
            "  inflating: CK/train/surprise/S097_001_00000021.png  \n",
            "  inflating: CK/train/surprise/S099_001_00000012.png  \n",
            "  inflating: CK/train/surprise/S099_001_00000013.png  \n",
            "  inflating: CK/train/surprise/S099_001_00000014.png  \n",
            "  inflating: CK/train/surprise/S100_002_00000013.png  \n",
            "  inflating: CK/train/surprise/S100_002_00000014.png  \n",
            "  inflating: CK/train/surprise/S100_002_00000015.png  \n",
            "  inflating: CK/train/surprise/S101_002_00000017.png  \n",
            "  inflating: CK/train/surprise/S101_002_00000018.png  \n",
            "  inflating: CK/train/surprise/S101_002_00000019.png  \n",
            "  inflating: CK/train/surprise/S102_002_00000016.png  \n",
            "  inflating: CK/train/surprise/S102_002_00000017.png  \n",
            "  inflating: CK/train/surprise/S102_002_00000018.png  \n",
            "  inflating: CK/train/surprise/S107_001_00000008.png  \n",
            "  inflating: CK/train/surprise/S107_001_00000009.png  \n",
            "  inflating: CK/train/surprise/S107_001_00000010.png  \n",
            "  inflating: CK/train/surprise/S110_001_00000011.png  \n",
            "  inflating: CK/train/surprise/S110_001_00000012.png  \n",
            "  inflating: CK/train/surprise/S110_001_00000013.png  \n",
            "  inflating: CK/train/surprise/S111_001_00000012.png  \n",
            "  inflating: CK/train/surprise/S111_001_00000013.png  \n",
            "  inflating: CK/train/surprise/S111_001_00000014.png  \n",
            "  inflating: CK/train/surprise/S113_001_00000010.png  \n",
            "  inflating: CK/train/surprise/S113_001_00000011.png  \n",
            "  inflating: CK/train/surprise/S113_001_00000012.png  \n",
            "  inflating: CK/train/surprise/S114_001_00000016.png  \n",
            "  inflating: CK/train/surprise/S114_001_00000017.png  \n",
            "  inflating: CK/train/surprise/S114_001_00000018.png  \n",
            "  inflating: CK/train/surprise/S115_001_00000006.png  \n",
            "  inflating: CK/train/surprise/S115_001_00000007.png  \n",
            "  inflating: CK/train/surprise/S115_001_00000008.png  \n",
            "  inflating: CK/train/surprise/S116_001_00000012.png  \n",
            "  inflating: CK/train/surprise/S116_001_00000013.png  \n",
            "  inflating: CK/train/surprise/S116_001_00000014.png  \n",
            "  inflating: CK/train/surprise/S117_001_00000012.png  \n",
            "  inflating: CK/train/surprise/S117_001_00000013.png  \n",
            "  inflating: CK/train/surprise/S117_001_00000014.png  \n",
            "  inflating: CK/train/surprise/S119_001_00000009.png  \n",
            "  inflating: CK/train/surprise/S119_001_00000010.png  \n",
            "  inflating: CK/train/surprise/S119_001_00000011.png  \n",
            "  inflating: CK/train/surprise/S122_001_00000010.png  \n",
            "  inflating: CK/train/surprise/S122_001_00000011.png  \n",
            "  inflating: CK/train/surprise/S122_001_00000012.png  \n",
            "  inflating: CK/train/surprise/S124_001_00000012.png  \n",
            "  inflating: CK/train/surprise/S124_001_00000013.png  \n",
            "  inflating: CK/train/surprise/S124_001_00000014.png  \n",
            "  inflating: CK/train/surprise/S125_007_00000007.png  \n",
            "  inflating: CK/train/surprise/S125_007_00000008.png  \n",
            "  inflating: CK/train/surprise/S125_007_00000009.png  \n",
            "  inflating: CK/train/surprise/S126_004_00000010.png  \n",
            "  inflating: CK/train/surprise/S126_004_00000011.png  \n",
            "  inflating: CK/train/surprise/S126_004_00000012.png  \n",
            "  inflating: CK/train/surprise/S127_001_00000015.png  \n",
            "  inflating: CK/train/surprise/S127_001_00000016.png  \n",
            "  inflating: CK/train/surprise/S127_001_00000017.png  \n",
            "  inflating: CK/train/surprise/S129_002_00000009.png  \n",
            "  inflating: CK/train/surprise/S129_002_00000010.png  \n",
            "  inflating: CK/train/surprise/S129_002_00000011.png  \n",
            "  inflating: CK/train/surprise/S130_001_00000016.png  \n",
            "  inflating: CK/train/surprise/S130_001_00000017.png  \n",
            "  inflating: CK/train/surprise/S130_001_00000018.png  \n",
            "  inflating: CK/train/surprise/S131_001_00000014.png  \n",
            "  inflating: CK/train/surprise/S131_001_00000015.png  \n",
            "  inflating: CK/train/surprise/S131_001_00000016.png  \n",
            "  inflating: CK/train/surprise/S132_008_00000008.png  \n",
            "  inflating: CK/train/surprise/S132_008_00000009.png  \n",
            "  inflating: CK/train/surprise/S132_008_00000010.png  \n",
            "  inflating: CK/train/surprise/S133_009_00000004.png  \n",
            "  inflating: CK/train/surprise/S133_009_00000005.png  \n",
            "  inflating: CK/train/surprise/S133_009_00000006.png  \n",
            "  inflating: CK/train/surprise/S135_001_00000037.png  \n",
            "  inflating: CK/train/surprise/S135_001_00000038.png  \n",
            "  inflating: CK/train/surprise/S135_001_00000039.png  \n",
            "  inflating: CK/train/surprise/S136_001_00000017.png  \n",
            "  inflating: CK/train/surprise/S136_001_00000018.png  \n",
            "  inflating: CK/train/surprise/S136_001_00000019.png  \n",
            "  inflating: CK/train/surprise/S137_001_00000012.png  \n",
            "  inflating: CK/train/surprise/S137_001_00000013.png  \n",
            "  inflating: CK/train/surprise/S137_001_00000014.png  \n",
            "  inflating: CK/train/surprise/S138_004_00000011.png  \n",
            "  inflating: CK/train/surprise/S138_004_00000012.png  \n",
            "  inflating: CK/train/surprise/S138_004_00000013.png  \n"
          ]
        }
      ],
      "source": [
        "!unzip 'CK.zip'"
      ]
    },
    {
      "cell_type": "code",
      "execution_count": 7,
      "metadata": {
        "id": "4v9k5HaABflm"
      },
      "outputs": [],
      "source": [
        "picture_size = 48\n",
        "folder_path = \"CK/\""
      ]
    },
    {
      "cell_type": "code",
      "execution_count": 8,
      "metadata": {
        "colab": {
          "base_uri": "https://localhost:8080/",
          "height": 702
        },
        "id": "ZT-cAl2-Boif",
        "outputId": "27debdd5-9a6f-4414-f995-7285e074d1a9"
      },
      "outputs": [
        {
          "output_type": "display_data",
          "data": {
            "text/plain": [
              "<Figure size 864x864 with 9 Axes>"
            ],
            "image/png": "[encoded data removed]"
          },
          "metadata": {
            "needs_background": "light"
          }
        }
      ],
      "source": [
        "expression = 'disgust'\n",
        "\n",
        "plt.figure(figsize= (12,12))\n",
        "for i in range(1, 10, 1):\n",
        "    plt.subplot(3,3,i)\n",
        "    img = load_img(folder_path+\"train/\"+expression+\"/\"+\n",
        "                  os.listdir(folder_path + \"train/\" + expression)[i], target_size=(picture_size, picture_size))\n",
        "    plt.imshow(img)   \n",
        "plt.show()"
      ]
    },
    {
      "cell_type": "code",
      "execution_count": 9,
      "metadata": {
        "colab": {
          "base_uri": "https://localhost:8080/"
        },
        "id": "nr5oZETRBfn8",
        "outputId": "4561e1ba-23c8-4dff-8c4d-f614e0850cdb"
      },
      "outputs": [
        {
          "output_type": "stream",
          "name": "stdout",
          "text": [
            "Found 981 images belonging to 7 classes.\n",
            "Found 179 images belonging to 7 classes.\n"
          ]
        }
      ],
      "source": [
        "batch_size=64\n",
        "datagen_train=ImageDataGenerator()\n",
        "datagen_val=ImageDataGenerator()\n",
        "\n",
        "train_set= datagen_train.flow_from_directory(folder_path+\"train\",\n",
        "                                            target_size=(picture_size,picture_size),\n",
        "                                            color_mode=\"grayscale\",\n",
        "                                             batch_size=batch_size,\n",
        "                                            class_mode=\"categorical\",\n",
        "                                            shuffle=True)\n",
        "test_set=datagen_val.flow_from_directory(folder_path+\"test\",\n",
        "                                       target_size=(picture_size,picture_size),\n",
        "                                       color_mode=\"grayscale\",\n",
        "                                       batch_size=batch_size,\n",
        "                                       class_mode=\"categorical\",\n",
        "                                       shuffle=False)"
      ]
    },
    {
      "cell_type": "code",
      "execution_count": 10,
      "metadata": {
        "colab": {
          "base_uri": "https://localhost:8080/"
        },
        "id": "DlMFLwNyBfqP",
        "outputId": "0a84b989-27b3-4f7b-db6b-3aa47c06d5f4"
      },
      "outputs": [
        {
          "output_type": "stream",
          "name": "stdout",
          "text": [
            "Model: \"sequential\"\n",
            "_________________________________________________________________\n",
            " Layer (type)                Output Shape              Param #   \n",
            "=================================================================\n",
            " conv2d (Conv2D)             (None, 48, 48, 64)        640       \n",
            "                                                                 \n",
            " batch_normalization (BatchN  (None, 48, 48, 64)       256       \n",
            " ormalization)                                                   \n",
            "                                                                 \n",
            " activation (Activation)     (None, 48, 48, 64)        0         \n",
            "                                                                 \n",
            " dropout (Dropout)           (None, 48, 48, 64)        0         \n",
            "                                                                 \n",
            " conv2d_1 (Conv2D)           (None, 48, 48, 64)        36928     \n",
            "                                                                 \n",
            " batch_normalization_1 (Batc  (None, 48, 48, 64)       256       \n",
            " hNormalization)                                                 \n",
            "                                                                 \n",
            " activation_1 (Activation)   (None, 48, 48, 64)        0         \n",
            "                                                                 \n",
            " max_pooling2d (MaxPooling2D  (None, 24, 24, 64)       0         \n",
            " )                                                               \n",
            "                                                                 \n",
            " dropout_1 (Dropout)         (None, 24, 24, 64)        0         \n",
            "                                                                 \n",
            " conv2d_2 (Conv2D)           (None, 24, 24, 128)       73856     \n",
            "                                                                 \n",
            " batch_normalization_2 (Batc  (None, 24, 24, 128)      512       \n",
            " hNormalization)                                                 \n",
            "                                                                 \n",
            " activation_2 (Activation)   (None, 24, 24, 128)       0         \n",
            "                                                                 \n",
            " dropout_2 (Dropout)         (None, 24, 24, 128)       0         \n",
            "                                                                 \n",
            " conv2d_3 (Conv2D)           (None, 24, 24, 128)       147584    \n",
            "                                                                 \n",
            " batch_normalization_3 (Batc  (None, 24, 24, 128)      512       \n",
            " hNormalization)                                                 \n",
            "                                                                 \n",
            " activation_3 (Activation)   (None, 24, 24, 128)       0         \n",
            "                                                                 \n",
            " max_pooling2d_1 (MaxPooling  (None, 12, 12, 128)      0         \n",
            " 2D)                                                             \n",
            "                                                                 \n",
            " dropout_3 (Dropout)         (None, 12, 12, 128)       0         \n",
            "                                                                 \n",
            " conv2d_4 (Conv2D)           (None, 12, 12, 512)       590336    \n",
            "                                                                 \n",
            " batch_normalization_4 (Batc  (None, 12, 12, 512)      2048      \n",
            " hNormalization)                                                 \n",
            "                                                                 \n",
            " activation_4 (Activation)   (None, 12, 12, 512)       0         \n",
            "                                                                 \n",
            " max_pooling2d_2 (MaxPooling  (None, 6, 6, 512)        0         \n",
            " 2D)                                                             \n",
            "                                                                 \n",
            " dropout_4 (Dropout)         (None, 6, 6, 512)         0         \n",
            "                                                                 \n",
            " conv2d_5 (Conv2D)           (None, 6, 6, 512)         2359808   \n",
            "                                                                 \n",
            " batch_normalization_5 (Batc  (None, 6, 6, 512)        2048      \n",
            " hNormalization)                                                 \n",
            "                                                                 \n",
            " activation_5 (Activation)   (None, 6, 6, 512)         0         \n",
            "                                                                 \n",
            " max_pooling2d_3 (MaxPooling  (None, 3, 3, 512)        0         \n",
            " 2D)                                                             \n",
            "                                                                 \n",
            " dropout_5 (Dropout)         (None, 3, 3, 512)         0         \n",
            "                                                                 \n",
            " flatten (Flatten)           (None, 4608)              0         \n",
            "                                                                 \n",
            " dense (Dense)               (None, 256)               1179904   \n",
            "                                                                 \n",
            " batch_normalization_6 (Batc  (None, 256)              1024      \n",
            " hNormalization)                                                 \n",
            "                                                                 \n",
            " activation_6 (Activation)   (None, 256)               0         \n",
            "                                                                 \n",
            " dropout_6 (Dropout)         (None, 256)               0         \n",
            "                                                                 \n",
            " dense_1 (Dense)             (None, 512)               131584    \n",
            "                                                                 \n",
            " batch_normalization_7 (Batc  (None, 512)              2048      \n",
            " hNormalization)                                                 \n",
            "                                                                 \n",
            " activation_7 (Activation)   (None, 512)               0         \n",
            "                                                                 \n",
            " dropout_7 (Dropout)         (None, 512)               0         \n",
            "                                                                 \n",
            " dense_2 (Dense)             (None, 7)                 3591      \n",
            "                                                                 \n",
            "=================================================================\n",
            "Total params: 4,532,935\n",
            "Trainable params: 4,528,583\n",
            "Non-trainable params: 4,352\n",
            "_________________________________________________________________\n"
          ]
        },
        {
          "output_type": "stream",
          "name": "stderr",
          "text": [
            "/usr/local/lib/python3.8/dist-packages/keras/optimizers/optimizer_v2/adam.py:110: UserWarning: The `lr` argument is deprecated, use `learning_rate` instead.\n",
            "  super(Adam, self).__init__(name, **kwargs)\n"
          ]
        }
      ],
      "source": [
        "no_of_classes=7\n",
        "\n",
        "model=Sequential()\n",
        "\n",
        "#1st CNN layer\n",
        "model.add(Conv2D(64,(3,3),padding=\"same\",input_shape=(48,48,1)))\n",
        "model.add(BatchNormalization())\n",
        "model.add(Activation(\"relu\"))\n",
        "model.add(Dropout(0.25))\n",
        "\n",
        "#2nd CNN layer\n",
        "model.add(Conv2D(64,(3,3),padding=\"same\",input_shape=(48,48,1)))\n",
        "model.add(BatchNormalization())\n",
        "model.add(Activation(\"relu\"))\n",
        "model.add(MaxPooling2D(pool_size=(2,2)))\n",
        "model.add(Dropout(0.25))\n",
        "\n",
        "#3rd CNN layer\n",
        "model.add(Conv2D(128,(3,3),padding=\"same\"))\n",
        "model.add(BatchNormalization())\n",
        "model.add(Activation(\"relu\"))\n",
        "model.add(Dropout(0.25))\n",
        "\n",
        "#4th CNN layer\n",
        "model.add(Conv2D(128,(3,3),padding=\"same\"))\n",
        "model.add(BatchNormalization())\n",
        "model.add(Activation(\"relu\"))\n",
        "model.add(MaxPooling2D(pool_size=(2,2)))\n",
        "model.add(Dropout(0.25))\n",
        "\n",
        "#5th CNN layer\n",
        "model.add(Conv2D(512,(3,3),padding=\"same\"))\n",
        "model.add(BatchNormalization())\n",
        "model.add(Activation(\"relu\"))\n",
        "model.add(MaxPooling2D(pool_size=(2,2)))\n",
        "model.add(Dropout(0.25))\n",
        "\n",
        "#6th CNN layer\n",
        "model.add(Conv2D(512,(3,3), padding='same'))\n",
        "model.add(BatchNormalization())\n",
        "model.add(Activation('relu'))\n",
        "model.add(MaxPooling2D(pool_size=(2, 2)))\n",
        "model.add(Dropout(0.25))\n",
        "\n",
        "model.add(Flatten())\n",
        "#Fully connected 1st layer\n",
        "model.add(Dense(256))\n",
        "model.add(BatchNormalization())\n",
        "model.add(Activation('relu'))\n",
        "model.add(Dropout(0.25))\n",
        "\n",
        "# Fully connected layer 2nd layer\n",
        "model.add(Dense(512))\n",
        "model.add(BatchNormalization())\n",
        "model.add(Activation('relu'))\n",
        "model.add(Dropout(0.25))\n",
        "\n",
        "model.add(Dense(no_of_classes,activation=\"softmax\"))\n",
        "\n",
        "opt = Adam(lr = 0.0001)\n",
        "model.compile(optimizer=opt,loss='categorical_crossentropy', metrics=['accuracy'])\n",
        "model.summary()"
      ]
    },
    {
      "cell_type": "code",
      "execution_count": 11,
      "metadata": {
        "id": "uAcA961wBfs-"
      },
      "outputs": [],
      "source": [
        "from tensorflow.keras.callbacks import ModelCheckpoint, EarlyStopping, ReduceLROnPlateau\n",
        "\n",
        "checkpoint = ModelCheckpoint(\"./model.h5\", monitor='val_acc', verbose=1, save_best_only=True, mode='max')\n",
        "\n",
        "early_stopping = EarlyStopping(monitor='val_loss',\n",
        "                          min_delta=0,\n",
        "                          patience=12,\n",
        "                          verbose=1,\n",
        "                          restore_best_weights=True\n",
        "                          )\n",
        "\n",
        "reduce_learningrate = ReduceLROnPlateau(monitor='val_loss',\n",
        "                              factor=0.2,\n",
        "                              patience=12,\n",
        "                              verbose=1,\n",
        "                              min_delta=0.0001)\n",
        "\n",
        "callbacks_list = [early_stopping,checkpoint,reduce_learningrate]\n",
        "\n",
        "epochs = 48\n",
        "\n",
        "model.compile(loss='categorical_crossentropy',\n",
        "              optimizer = Adam(lr=0.001),\n",
        "              metrics=['accuracy'])"
      ]
    },
    {
      "cell_type": "code",
      "execution_count": 12,
      "metadata": {
        "colab": {
          "base_uri": "https://localhost:8080/"
        },
        "id": "sj7oGiD5BfvY",
        "outputId": "d58095c3-a71a-4ac4-87fe-4f069e9a08b2"
      },
      "outputs": [
        {
          "output_type": "stream",
          "name": "stdout",
          "text": [
            "Epoch 1/48\n",
            "14/15 [===========================>..] - ETA: 0s - loss: 1.9600 - accuracy: 0.2802"
          ]
        },
        {
          "output_type": "stream",
          "name": "stderr",
          "text": [
            "WARNING:tensorflow:Can save best model only with val_acc available, skipping.\n"
          ]
        },
        {
          "output_type": "stream",
          "name": "stdout",
          "text": [
            "\b\b\b\b\b\b\b\b\b\b\b\b\b\b\b\b\b\b\b\b\b\b\b\b\b\b\b\b\b\b\b\b\b\b\b\b\b\b\b\b\b\b\b\b\b\b\b\b\b\b\b\b\b\b\b\b\b\b\b\b\b\b\b\b\b\b\b\b\b\b\b\b\b\b\b\b\b\b\b\b\b\b\r15/15 [==============================] - 12s 148ms/step - loss: 1.9178 - accuracy: 0.2923 - val_loss: 8.2119 - val_accuracy: 0.0156 - lr: 0.0010\n",
            "Epoch 2/48\n",
            "15/15 [==============================] - ETA: 0s - loss: 1.4067 - accuracy: 0.5278"
          ]
        },
        {
          "output_type": "stream",
          "name": "stderr",
          "text": [
            "WARNING:tensorflow:Can save best model only with val_acc available, skipping.\n"
          ]
        },
        {
          "output_type": "stream",
          "name": "stdout",
          "text": [
            "\b\b\b\b\b\b\b\b\b\b\b\b\b\b\b\b\b\b\b\b\b\b\b\b\b\b\b\b\b\b\b\b\b\b\b\b\b\b\b\b\b\b\b\b\b\b\b\b\b\b\b\b\b\b\b\b\b\b\b\b\b\b\b\b\b\b\b\b\b\b\b\b\b\b\b\b\b\b\b\b\b\b\r15/15 [==============================] - 1s 53ms/step - loss: 1.4067 - accuracy: 0.5278 - val_loss: 4.6643 - val_accuracy: 0.2109 - lr: 0.0010\n",
            "Epoch 3/48\n",
            "15/15 [==============================] - ETA: 0s - loss: 0.9852 - accuracy: 0.6390"
          ]
        },
        {
          "output_type": "stream",
          "name": "stderr",
          "text": [
            "WARNING:tensorflow:Can save best model only with val_acc available, skipping.\n"
          ]
        },
        {
          "output_type": "stream",
          "name": "stdout",
          "text": [
            "\b\b\b\b\b\b\b\b\b\b\b\b\b\b\b\b\b\b\b\b\b\b\b\b\b\b\b\b\b\b\b\b\b\b\b\b\b\b\b\b\b\b\b\b\b\b\b\b\b\b\b\b\b\b\b\b\b\b\b\b\b\b\b\b\b\b\b\b\b\b\b\b\b\b\b\b\b\b\b\b\b\b\r15/15 [==============================] - 1s 48ms/step - loss: 0.9852 - accuracy: 0.6390 - val_loss: 1.6377 - val_accuracy: 0.4922 - lr: 0.0010\n",
            "Epoch 4/48\n",
            "15/15 [==============================] - ETA: 0s - loss: 0.6913 - accuracy: 0.7492"
          ]
        },
        {
          "output_type": "stream",
          "name": "stderr",
          "text": [
            "WARNING:tensorflow:Can save best model only with val_acc available, skipping.\n"
          ]
        },
        {
          "output_type": "stream",
          "name": "stdout",
          "text": [
            "\b\b\b\b\b\b\b\b\b\b\b\b\b\b\b\b\b\b\b\b\b\b\b\b\b\b\b\b\b\b\b\b\b\b\b\b\b\b\b\b\b\b\b\b\b\b\b\b\b\b\b\b\b\b\b\b\b\b\b\b\b\b\b\b\b\b\b\b\b\b\b\b\b\b\b\b\b\b\b\b\b\b\r15/15 [==============================] - 1s 48ms/step - loss: 0.6913 - accuracy: 0.7492 - val_loss: 1.9266 - val_accuracy: 0.3594 - lr: 0.0010\n",
            "Epoch 5/48\n",
            "15/15 [==============================] - ETA: 0s - loss: 0.4989 - accuracy: 0.8255"
          ]
        },
        {
          "output_type": "stream",
          "name": "stderr",
          "text": [
            "WARNING:tensorflow:Can save best model only with val_acc available, skipping.\n"
          ]
        },
        {
          "output_type": "stream",
          "name": "stdout",
          "text": [
            "\b\b\b\b\b\b\b\b\b\b\b\b\b\b\b\b\b\b\b\b\b\b\b\b\b\b\b\b\b\b\b\b\b\b\b\b\b\b\b\b\b\b\b\b\b\b\b\b\b\b\b\b\b\b\b\b\b\b\b\b\b\b\b\b\b\b\b\b\b\b\b\b\b\b\b\b\b\b\b\b\b\b\r15/15 [==============================] - 1s 47ms/step - loss: 0.4989 - accuracy: 0.8255 - val_loss: 2.7083 - val_accuracy: 0.3047 - lr: 0.0010\n",
            "Epoch 6/48\n",
            "15/15 [==============================] - ETA: 0s - loss: 0.3964 - accuracy: 0.8506"
          ]
        },
        {
          "output_type": "stream",
          "name": "stderr",
          "text": [
            "WARNING:tensorflow:Can save best model only with val_acc available, skipping.\n"
          ]
        },
        {
          "output_type": "stream",
          "name": "stdout",
          "text": [
            "\b\b\b\b\b\b\b\b\b\b\b\b\b\b\b\b\b\b\b\b\b\b\b\b\b\b\b\b\b\b\b\b\b\b\b\b\b\b\b\b\b\b\b\b\b\b\b\b\b\b\b\b\b\b\b\b\b\b\b\b\b\b\b\b\b\b\b\b\b\b\b\b\b\b\b\b\b\b\b\b\b\b\r15/15 [==============================] - 1s 47ms/step - loss: 0.3964 - accuracy: 0.8506 - val_loss: 1.9578 - val_accuracy: 0.4844 - lr: 0.0010\n",
            "Epoch 7/48\n",
            "14/15 [===========================>..] - ETA: 0s - loss: 0.3144 - accuracy: 0.8957"
          ]
        },
        {
          "output_type": "stream",
          "name": "stderr",
          "text": [
            "WARNING:tensorflow:Can save best model only with val_acc available, skipping.\n"
          ]
        },
        {
          "output_type": "stream",
          "name": "stdout",
          "text": [
            "\b\b\b\b\b\b\b\b\b\b\b\b\b\b\b\b\b\b\b\b\b\b\b\b\b\b\b\b\b\b\b\b\b\b\b\b\b\b\b\b\b\b\b\b\b\b\b\b\b\b\b\b\b\b\b\b\b\b\b\b\b\b\b\b\b\b\b\b\b\b\b\b\b\b\b\b\b\b\b\b\b\b\r15/15 [==============================] - 1s 50ms/step - loss: 0.3182 - accuracy: 0.8942 - val_loss: 1.4403 - val_accuracy: 0.5859 - lr: 0.0010\n",
            "Epoch 8/48\n",
            "15/15 [==============================] - ETA: 0s - loss: 0.2980 - accuracy: 0.8942"
          ]
        },
        {
          "output_type": "stream",
          "name": "stderr",
          "text": [
            "WARNING:tensorflow:Can save best model only with val_acc available, skipping.\n"
          ]
        },
        {
          "output_type": "stream",
          "name": "stdout",
          "text": [
            "\b\b\b\b\b\b\b\b\b\b\b\b\b\b\b\b\b\b\b\b\b\b\b\b\b\b\b\b\b\b\b\b\b\b\b\b\b\b\b\b\b\b\b\b\b\b\b\b\b\b\b\b\b\b\b\b\b\b\b\b\b\b\b\b\b\b\b\b\b\b\b\b\b\b\b\b\b\b\b\b\b\b\r15/15 [==============================] - 1s 49ms/step - loss: 0.2980 - accuracy: 0.8942 - val_loss: 1.2853 - val_accuracy: 0.6172 - lr: 0.0010\n",
            "Epoch 9/48\n",
            "15/15 [==============================] - ETA: 0s - loss: 0.2383 - accuracy: 0.9204"
          ]
        },
        {
          "output_type": "stream",
          "name": "stderr",
          "text": [
            "WARNING:tensorflow:Can save best model only with val_acc available, skipping.\n"
          ]
        },
        {
          "output_type": "stream",
          "name": "stdout",
          "text": [
            "\b\b\b\b\b\b\b\b\b\b\b\b\b\b\b\b\b\b\b\b\b\b\b\b\b\b\b\b\b\b\b\b\b\b\b\b\b\b\b\b\b\b\b\b\b\b\b\b\b\b\b\b\b\b\b\b\b\b\b\b\b\b\b\b\b\b\b\b\b\b\b\b\b\b\b\b\b\b\b\b\b\b\r15/15 [==============================] - 1s 48ms/step - loss: 0.2383 - accuracy: 0.9204 - val_loss: 1.6719 - val_accuracy: 0.5781 - lr: 0.0010\n",
            "Epoch 10/48\n",
            "15/15 [==============================] - ETA: 0s - loss: 0.1754 - accuracy: 0.9498"
          ]
        },
        {
          "output_type": "stream",
          "name": "stderr",
          "text": [
            "WARNING:tensorflow:Can save best model only with val_acc available, skipping.\n"
          ]
        },
        {
          "output_type": "stream",
          "name": "stdout",
          "text": [
            "\b\b\b\b\b\b\b\b\b\b\b\b\b\b\b\b\b\b\b\b\b\b\b\b\b\b\b\b\b\b\b\b\b\b\b\b\b\b\b\b\b\b\b\b\b\b\b\b\b\b\b\b\b\b\b\b\b\b\b\b\b\b\b\b\b\b\b\b\b\b\b\b\b\b\b\b\b\b\b\b\b\b\r15/15 [==============================] - 1s 49ms/step - loss: 0.1754 - accuracy: 0.9498 - val_loss: 0.5964 - val_accuracy: 0.8281 - lr: 0.0010\n",
            "Epoch 11/48\n",
            "15/15 [==============================] - ETA: 0s - loss: 0.1191 - accuracy: 0.9662"
          ]
        },
        {
          "output_type": "stream",
          "name": "stderr",
          "text": [
            "WARNING:tensorflow:Can save best model only with val_acc available, skipping.\n"
          ]
        },
        {
          "output_type": "stream",
          "name": "stdout",
          "text": [
            "\b\b\b\b\b\b\b\b\b\b\b\b\b\b\b\b\b\b\b\b\b\b\b\b\b\b\b\b\b\b\b\b\b\b\b\b\b\b\b\b\b\b\b\b\b\b\b\b\b\b\b\b\b\b\b\b\b\b\b\b\b\b\b\b\b\b\b\b\b\b\b\b\b\b\b\b\b\b\b\b\b\b\r15/15 [==============================] - 1s 48ms/step - loss: 0.1191 - accuracy: 0.9662 - val_loss: 0.6477 - val_accuracy: 0.7891 - lr: 0.0010\n",
            "Epoch 12/48\n",
            "14/15 [===========================>..] - ETA: 0s - loss: 0.1086 - accuracy: 0.9660"
          ]
        },
        {
          "output_type": "stream",
          "name": "stderr",
          "text": [
            "WARNING:tensorflow:Can save best model only with val_acc available, skipping.\n"
          ]
        },
        {
          "output_type": "stream",
          "name": "stdout",
          "text": [
            "\b\b\b\b\b\b\b\b\b\b\b\b\b\b\b\b\b\b\b\b\b\b\b\b\b\b\b\b\b\b\b\b\b\b\b\b\b\b\b\b\b\b\b\b\b\b\b\b\b\b\b\b\b\b\b\b\b\b\b\b\b\b\b\b\b\b\b\b\b\b\b\b\b\b\b\b\b\b\b\b\b\b\r15/15 [==============================] - 1s 48ms/step - loss: 0.1127 - accuracy: 0.9629 - val_loss: 0.9635 - val_accuracy: 0.7109 - lr: 0.0010\n",
            "Epoch 13/48\n",
            "15/15 [==============================] - ETA: 0s - loss: 0.0878 - accuracy: 0.9815"
          ]
        },
        {
          "output_type": "stream",
          "name": "stderr",
          "text": [
            "WARNING:tensorflow:Can save best model only with val_acc available, skipping.\n"
          ]
        },
        {
          "output_type": "stream",
          "name": "stdout",
          "text": [
            "\b\b\b\b\b\b\b\b\b\b\b\b\b\b\b\b\b\b\b\b\b\b\b\b\b\b\b\b\b\b\b\b\b\b\b\b\b\b\b\b\b\b\b\b\b\b\b\b\b\b\b\b\b\b\b\b\b\b\b\b\b\b\b\b\b\b\b\b\b\b\b\b\b\b\b\b\b\b\b\b\b\b\r15/15 [==============================] - 1s 56ms/step - loss: 0.0878 - accuracy: 0.9815 - val_loss: 1.6008 - val_accuracy: 0.5312 - lr: 0.0010\n",
            "Epoch 14/48\n",
            "15/15 [==============================] - ETA: 0s - loss: 0.0990 - accuracy: 0.9629"
          ]
        },
        {
          "output_type": "stream",
          "name": "stderr",
          "text": [
            "WARNING:tensorflow:Can save best model only with val_acc available, skipping.\n"
          ]
        },
        {
          "output_type": "stream",
          "name": "stdout",
          "text": [
            "\b\b\b\b\b\b\b\b\b\b\b\b\b\b\b\b\b\b\b\b\b\b\b\b\b\b\b\b\b\b\b\b\b\b\b\b\b\b\b\b\b\b\b\b\b\b\b\b\b\b\b\b\b\b\b\b\b\b\b\b\b\b\b\b\b\b\b\b\b\b\b\b\b\b\b\b\b\b\b\b\b\b\r15/15 [==============================] - 1s 57ms/step - loss: 0.0990 - accuracy: 0.9629 - val_loss: 0.9772 - val_accuracy: 0.7500 - lr: 0.0010\n",
            "Epoch 15/48\n",
            "15/15 [==============================] - ETA: 0s - loss: 0.0800 - accuracy: 0.9695"
          ]
        },
        {
          "output_type": "stream",
          "name": "stderr",
          "text": [
            "WARNING:tensorflow:Can save best model only with val_acc available, skipping.\n"
          ]
        },
        {
          "output_type": "stream",
          "name": "stdout",
          "text": [
            "\b\b\b\b\b\b\b\b\b\b\b\b\b\b\b\b\b\b\b\b\b\b\b\b\b\b\b\b\b\b\b\b\b\b\b\b\b\b\b\b\b\b\b\b\b\b\b\b\b\b\b\b\b\b\b\b\b\b\b\b\b\b\b\b\b\b\b\b\b\b\b\b\b\b\b\b\b\b\b\b\b\b\r15/15 [==============================] - 1s 49ms/step - loss: 0.0800 - accuracy: 0.9695 - val_loss: 0.4044 - val_accuracy: 0.8281 - lr: 0.0010\n",
            "Epoch 16/48\n",
            "15/15 [==============================] - ETA: 0s - loss: 0.0720 - accuracy: 0.9738"
          ]
        },
        {
          "output_type": "stream",
          "name": "stderr",
          "text": [
            "WARNING:tensorflow:Can save best model only with val_acc available, skipping.\n"
          ]
        },
        {
          "output_type": "stream",
          "name": "stdout",
          "text": [
            "\b\b\b\b\b\b\b\b\b\b\b\b\b\b\b\b\b\b\b\b\b\b\b\b\b\b\b\b\b\b\b\b\b\b\b\b\b\b\b\b\b\b\b\b\b\b\b\b\b\b\b\b\b\b\b\b\b\b\b\b\b\b\b\b\b\b\b\b\b\b\b\b\b\b\b\b\b\b\b\b\b\b\r15/15 [==============================] - 1s 48ms/step - loss: 0.0720 - accuracy: 0.9738 - val_loss: 0.7407 - val_accuracy: 0.7891 - lr: 0.0010\n",
            "Epoch 17/48\n",
            "14/15 [===========================>..] - ETA: 0s - loss: 0.0711 - accuracy: 0.9789"
          ]
        },
        {
          "output_type": "stream",
          "name": "stderr",
          "text": [
            "WARNING:tensorflow:Can save best model only with val_acc available, skipping.\n"
          ]
        },
        {
          "output_type": "stream",
          "name": "stdout",
          "text": [
            "\b\b\b\b\b\b\b\b\b\b\b\b\b\b\b\b\b\b\b\b\b\b\b\b\b\b\b\b\b\b\b\b\b\b\b\b\b\b\b\b\b\b\b\b\b\b\b\b\b\b\b\b\b\b\b\b\b\b\b\b\b\b\b\b\b\b\b\b\b\b\b\b\b\b\b\b\b\b\b\b\b\b\r15/15 [==============================] - 1s 50ms/step - loss: 0.0713 - accuracy: 0.9782 - val_loss: 0.3117 - val_accuracy: 0.9219 - lr: 0.0010\n",
            "Epoch 18/48\n",
            "14/15 [===========================>..] - ETA: 0s - loss: 0.0672 - accuracy: 0.9824"
          ]
        },
        {
          "output_type": "stream",
          "name": "stderr",
          "text": [
            "WARNING:tensorflow:Can save best model only with val_acc available, skipping.\n"
          ]
        },
        {
          "output_type": "stream",
          "name": "stdout",
          "text": [
            "\b\b\b\b\b\b\b\b\b\b\b\b\b\b\b\b\b\b\b\b\b\b\b\b\b\b\b\b\b\b\b\b\b\b\b\b\b\b\b\b\b\b\b\b\b\b\b\b\b\b\b\b\b\b\b\b\b\b\b\b\b\b\b\b\b\b\b\b\b\b\b\b\b\b\b\b\b\b\b\b\b\b\r15/15 [==============================] - 1s 48ms/step - loss: 0.0728 - accuracy: 0.9815 - val_loss: 0.4430 - val_accuracy: 0.8828 - lr: 0.0010\n",
            "Epoch 19/48\n",
            "14/15 [===========================>..] - ETA: 0s - loss: 0.0680 - accuracy: 0.9730"
          ]
        },
        {
          "output_type": "stream",
          "name": "stderr",
          "text": [
            "WARNING:tensorflow:Can save best model only with val_acc available, skipping.\n"
          ]
        },
        {
          "output_type": "stream",
          "name": "stdout",
          "text": [
            "\b\b\b\b\b\b\b\b\b\b\b\b\b\b\b\b\b\b\b\b\b\b\b\b\b\b\b\b\b\b\b\b\b\b\b\b\b\b\b\b\b\b\b\b\b\b\b\b\b\b\b\b\b\b\b\b\b\b\b\b\b\b\b\b\b\b\b\b\b\b\b\b\b\b\b\b\b\b\b\b\b\b\r15/15 [==============================] - 1s 52ms/step - loss: 0.0661 - accuracy: 0.9738 - val_loss: 0.2183 - val_accuracy: 0.9375 - lr: 0.0010\n",
            "Epoch 20/48\n",
            "15/15 [==============================] - ETA: 0s - loss: 0.0612 - accuracy: 0.9760"
          ]
        },
        {
          "output_type": "stream",
          "name": "stderr",
          "text": [
            "WARNING:tensorflow:Can save best model only with val_acc available, skipping.\n"
          ]
        },
        {
          "output_type": "stream",
          "name": "stdout",
          "text": [
            "\b\b\b\b\b\b\b\b\b\b\b\b\b\b\b\b\b\b\b\b\b\b\b\b\b\b\b\b\b\b\b\b\b\b\b\b\b\b\b\b\b\b\b\b\b\b\b\b\b\b\b\b\b\b\b\b\b\b\b\b\b\b\b\b\b\b\b\b\b\b\b\b\b\b\b\b\b\b\b\b\b\b\r15/15 [==============================] - 1s 50ms/step - loss: 0.0612 - accuracy: 0.9760 - val_loss: 0.8208 - val_accuracy: 0.7344 - lr: 0.0010\n",
            "Epoch 21/48\n",
            "15/15 [==============================] - ETA: 0s - loss: 0.0353 - accuracy: 0.9891"
          ]
        },
        {
          "output_type": "stream",
          "name": "stderr",
          "text": [
            "WARNING:tensorflow:Can save best model only with val_acc available, skipping.\n"
          ]
        },
        {
          "output_type": "stream",
          "name": "stdout",
          "text": [
            "\b\b\b\b\b\b\b\b\b\b\b\b\b\b\b\b\b\b\b\b\b\b\b\b\b\b\b\b\b\b\b\b\b\b\b\b\b\b\b\b\b\b\b\b\b\b\b\b\b\b\b\b\b\b\b\b\b\b\b\b\b\b\b\b\b\b\b\b\b\b\b\b\b\b\b\b\b\b\b\b\b\b\r15/15 [==============================] - 1s 48ms/step - loss: 0.0353 - accuracy: 0.9891 - val_loss: 0.3571 - val_accuracy: 0.8594 - lr: 0.0010\n",
            "Epoch 22/48\n",
            "15/15 [==============================] - ETA: 0s - loss: 0.0315 - accuracy: 0.9869"
          ]
        },
        {
          "output_type": "stream",
          "name": "stderr",
          "text": [
            "WARNING:tensorflow:Can save best model only with val_acc available, skipping.\n"
          ]
        },
        {
          "output_type": "stream",
          "name": "stdout",
          "text": [
            "\b\b\b\b\b\b\b\b\b\b\b\b\b\b\b\b\b\b\b\b\b\b\b\b\b\b\b\b\b\b\b\b\b\b\b\b\b\b\b\b\b\b\b\b\b\b\b\b\b\b\b\b\b\b\b\b\b\b\b\b\b\b\b\b\b\b\b\b\b\b\b\b\b\b\b\b\b\b\b\b\b\b\r15/15 [==============================] - 1s 48ms/step - loss: 0.0315 - accuracy: 0.9869 - val_loss: 0.5650 - val_accuracy: 0.8516 - lr: 0.0010\n",
            "Epoch 23/48\n",
            "15/15 [==============================] - ETA: 0s - loss: 0.0300 - accuracy: 0.9902"
          ]
        },
        {
          "output_type": "stream",
          "name": "stderr",
          "text": [
            "WARNING:tensorflow:Can save best model only with val_acc available, skipping.\n"
          ]
        },
        {
          "output_type": "stream",
          "name": "stdout",
          "text": [
            "\b\b\b\b\b\b\b\b\b\b\b\b\b\b\b\b\b\b\b\b\b\b\b\b\b\b\b\b\b\b\b\b\b\b\b\b\b\b\b\b\b\b\b\b\b\b\b\b\b\b\b\b\b\b\b\b\b\b\b\b\b\b\b\b\b\b\b\b\b\b\b\b\b\b\b\b\b\b\b\b\b\b\r15/15 [==============================] - 1s 50ms/step - loss: 0.0300 - accuracy: 0.9902 - val_loss: 0.2435 - val_accuracy: 0.9531 - lr: 0.0010\n",
            "Epoch 24/48\n",
            "15/15 [==============================] - ETA: 0s - loss: 0.0237 - accuracy: 0.9945"
          ]
        },
        {
          "output_type": "stream",
          "name": "stderr",
          "text": [
            "WARNING:tensorflow:Can save best model only with val_acc available, skipping.\n"
          ]
        },
        {
          "output_type": "stream",
          "name": "stdout",
          "text": [
            "\b\b\b\b\b\b\b\b\b\b\b\b\b\b\b\b\b\b\b\b\b\b\b\b\b\b\b\b\b\b\b\b\b\b\b\b\b\b\b\b\b\b\b\b\b\b\b\b\b\b\b\b\b\b\b\b\b\b\b\b\b\b\b\b\b\b\b\b\b\b\b\b\b\b\b\b\b\b\b\b\b\b\r15/15 [==============================] - 1s 49ms/step - loss: 0.0237 - accuracy: 0.9945 - val_loss: 0.1845 - val_accuracy: 0.9453 - lr: 0.0010\n",
            "Epoch 25/48\n",
            "15/15 [==============================] - ETA: 0s - loss: 0.0521 - accuracy: 0.9847"
          ]
        },
        {
          "output_type": "stream",
          "name": "stderr",
          "text": [
            "WARNING:tensorflow:Can save best model only with val_acc available, skipping.\n"
          ]
        },
        {
          "output_type": "stream",
          "name": "stdout",
          "text": [
            "\b\b\b\b\b\b\b\b\b\b\b\b\b\b\b\b\b\b\b\b\b\b\b\b\b\b\b\b\b\b\b\b\b\b\b\b\b\b\b\b\b\b\b\b\b\b\b\b\b\b\b\b\b\b\b\b\b\b\b\b\b\b\b\b\b\b\b\b\b\b\b\b\b\b\b\b\b\b\b\b\b\b\r15/15 [==============================] - 1s 48ms/step - loss: 0.0521 - accuracy: 0.9847 - val_loss: 0.2277 - val_accuracy: 0.9375 - lr: 0.0010\n",
            "Epoch 26/48\n",
            "15/15 [==============================] - ETA: 0s - loss: 0.0255 - accuracy: 0.9956"
          ]
        },
        {
          "output_type": "stream",
          "name": "stderr",
          "text": [
            "WARNING:tensorflow:Can save best model only with val_acc available, skipping.\n"
          ]
        },
        {
          "output_type": "stream",
          "name": "stdout",
          "text": [
            "\b\b\b\b\b\b\b\b\b\b\b\b\b\b\b\b\b\b\b\b\b\b\b\b\b\b\b\b\b\b\b\b\b\b\b\b\b\b\b\b\b\b\b\b\b\b\b\b\b\b\b\b\b\b\b\b\b\b\b\b\b\b\b\b\b\b\b\b\b\b\b\b\b\b\b\b\b\b\b\b\b\b\r15/15 [==============================] - 1s 50ms/step - loss: 0.0255 - accuracy: 0.9956 - val_loss: 0.1034 - val_accuracy: 0.9844 - lr: 0.0010\n",
            "Epoch 27/48\n",
            "15/15 [==============================] - ETA: 0s - loss: 0.0376 - accuracy: 0.9891"
          ]
        },
        {
          "output_type": "stream",
          "name": "stderr",
          "text": [
            "WARNING:tensorflow:Can save best model only with val_acc available, skipping.\n"
          ]
        },
        {
          "output_type": "stream",
          "name": "stdout",
          "text": [
            "\b\b\b\b\b\b\b\b\b\b\b\b\b\b\b\b\b\b\b\b\b\b\b\b\b\b\b\b\b\b\b\b\b\b\b\b\b\b\b\b\b\b\b\b\b\b\b\b\b\b\b\b\b\b\b\b\b\b\b\b\b\b\b\b\b\b\b\b\b\b\b\b\b\b\b\b\b\b\b\b\b\b\r15/15 [==============================] - 1s 49ms/step - loss: 0.0376 - accuracy: 0.9891 - val_loss: 0.1532 - val_accuracy: 0.9766 - lr: 0.0010\n",
            "Epoch 28/48\n",
            "15/15 [==============================] - ETA: 0s - loss: 0.0469 - accuracy: 0.9869"
          ]
        },
        {
          "output_type": "stream",
          "name": "stderr",
          "text": [
            "WARNING:tensorflow:Can save best model only with val_acc available, skipping.\n"
          ]
        },
        {
          "output_type": "stream",
          "name": "stdout",
          "text": [
            "\b\b\b\b\b\b\b\b\b\b\b\b\b\b\b\b\b\b\b\b\b\b\b\b\b\b\b\b\b\b\b\b\b\b\b\b\b\b\b\b\b\b\b\b\b\b\b\b\b\b\b\b\b\b\b\b\b\b\b\b\b\b\b\b\b\b\b\b\b\b\b\b\b\b\b\b\b\b\b\b\b\b\r15/15 [==============================] - 1s 48ms/step - loss: 0.0469 - accuracy: 0.9869 - val_loss: 0.1479 - val_accuracy: 0.9766 - lr: 0.0010\n",
            "Epoch 29/48\n",
            "15/15 [==============================] - ETA: 0s - loss: 0.0233 - accuracy: 0.9948"
          ]
        },
        {
          "output_type": "stream",
          "name": "stderr",
          "text": [
            "WARNING:tensorflow:Can save best model only with val_acc available, skipping.\n"
          ]
        },
        {
          "output_type": "stream",
          "name": "stdout",
          "text": [
            "\b\b\b\b\b\b\b\b\b\b\b\b\b\b\b\b\b\b\b\b\b\b\b\b\b\b\b\b\b\b\b\b\b\b\b\b\b\b\b\b\b\b\b\b\b\b\b\b\b\b\b\b\b\b\b\b\b\b\b\b\b\b\b\b\b\b\b\b\b\b\b\b\b\b\b\b\b\b\b\b\b\b\r15/15 [==============================] - 1s 49ms/step - loss: 0.0233 - accuracy: 0.9948 - val_loss: 0.1214 - val_accuracy: 0.9922 - lr: 0.0010\n",
            "Epoch 30/48\n",
            "15/15 [==============================] - ETA: 0s - loss: 0.0252 - accuracy: 0.9945"
          ]
        },
        {
          "output_type": "stream",
          "name": "stderr",
          "text": [
            "WARNING:tensorflow:Can save best model only with val_acc available, skipping.\n"
          ]
        },
        {
          "output_type": "stream",
          "name": "stdout",
          "text": [
            "\b\b\b\b\b\b\b\b\b\b\b\b\b\b\b\b\b\b\b\b\b\b\b\b\b\b\b\b\b\b\b\b\b\b\b\b\b\b\b\b\b\b\b\b\b\b\b\b\b\b\b\b\b\b\b\b\b\b\b\b\b\b\b\b\b\b\b\b\b\b\b\b\b\b\b\b\b\b\b\b\b\b\r15/15 [==============================] - 1s 48ms/step - loss: 0.0252 - accuracy: 0.9945 - val_loss: 0.1586 - val_accuracy: 0.9453 - lr: 0.0010\n",
            "Epoch 31/48\n",
            "15/15 [==============================] - ETA: 0s - loss: 0.0305 - accuracy: 0.9891"
          ]
        },
        {
          "output_type": "stream",
          "name": "stderr",
          "text": [
            "WARNING:tensorflow:Can save best model only with val_acc available, skipping.\n"
          ]
        },
        {
          "output_type": "stream",
          "name": "stdout",
          "text": [
            "\b\b\b\b\b\b\b\b\b\b\b\b\b\b\b\b\b\b\b\b\b\b\b\b\b\b\b\b\b\b\b\b\b\b\b\b\b\b\b\b\b\b\b\b\b\b\b\b\b\b\b\b\b\b\b\b\b\b\b\b\b\b\b\b\b\b\b\b\b\b\b\b\b\b\b\b\b\b\b\b\b\b\r15/15 [==============================] - 1s 50ms/step - loss: 0.0305 - accuracy: 0.9891 - val_loss: 0.1682 - val_accuracy: 0.9609 - lr: 0.0010\n",
            "Epoch 32/48\n",
            "14/15 [===========================>..] - ETA: 0s - loss: 0.0120 - accuracy: 0.9988"
          ]
        },
        {
          "output_type": "stream",
          "name": "stderr",
          "text": [
            "WARNING:tensorflow:Can save best model only with val_acc available, skipping.\n"
          ]
        },
        {
          "output_type": "stream",
          "name": "stdout",
          "text": [
            "\b\b\b\b\b\b\b\b\b\b\b\b\b\b\b\b\b\b\b\b\b\b\b\b\b\b\b\b\b\b\b\b\b\b\b\b\b\b\b\b\b\b\b\b\b\b\b\b\b\b\b\b\b\b\b\b\b\b\b\b\b\b\b\b\b\b\b\b\b\b\b\b\b\b\b\b\b\b\b\b\b\b\r15/15 [==============================] - 1s 49ms/step - loss: 0.0122 - accuracy: 0.9989 - val_loss: 0.1553 - val_accuracy: 0.9766 - lr: 0.0010\n",
            "Epoch 33/48\n",
            "15/15 [==============================] - ETA: 0s - loss: 0.0215 - accuracy: 0.9924"
          ]
        },
        {
          "output_type": "stream",
          "name": "stderr",
          "text": [
            "WARNING:tensorflow:Can save best model only with val_acc available, skipping.\n"
          ]
        },
        {
          "output_type": "stream",
          "name": "stdout",
          "text": [
            "\b\b\b\b\b\b\b\b\b\b\b\b\b\b\b\b\b\b\b\b\b\b\b\b\b\b\b\b\b\b\b\b\b\b\b\b\b\b\b\b\b\b\b\b\b\b\b\b\b\b\b\b\b\b\b\b\b\b\b\b\b\b\b\b\b\b\b\b\b\b\b\b\b\b\b\b\b\b\b\b\b\b\r15/15 [==============================] - 1s 48ms/step - loss: 0.0215 - accuracy: 0.9924 - val_loss: 0.1050 - val_accuracy: 0.9844 - lr: 0.0010\n",
            "Epoch 34/48\n",
            "14/15 [===========================>..] - ETA: 0s - loss: 0.0354 - accuracy: 0.9894"
          ]
        },
        {
          "output_type": "stream",
          "name": "stderr",
          "text": [
            "WARNING:tensorflow:Can save best model only with val_acc available, skipping.\n"
          ]
        },
        {
          "output_type": "stream",
          "name": "stdout",
          "text": [
            "\b\b\b\b\b\b\b\b\b\b\b\b\b\b\b\b\b\b\b\b\b\b\b\b\b\b\b\b\b\b\b\b\b\b\b\b\b\b\b\b\b\b\b\b\b\b\b\b\b\b\b\b\b\b\b\b\b\b\b\b\b\b\b\b\b\b\b\b\b\b\b\b\b\b\b\b\b\b\b\b\b\b\r15/15 [==============================] - 1s 49ms/step - loss: 0.0378 - accuracy: 0.9880 - val_loss: 0.6681 - val_accuracy: 0.8047 - lr: 0.0010\n",
            "Epoch 35/48\n",
            "15/15 [==============================] - ETA: 0s - loss: 0.0291 - accuracy: 0.9891"
          ]
        },
        {
          "output_type": "stream",
          "name": "stderr",
          "text": [
            "WARNING:tensorflow:Can save best model only with val_acc available, skipping.\n"
          ]
        },
        {
          "output_type": "stream",
          "name": "stdout",
          "text": [
            "\b\b\b\b\b\b\b\b\b\b\b\b\b\b\b\b\b\b\b\b\b\b\b\b\b\b\b\b\b\b\b\b\b\b\b\b\b\b\b\b\b\b\b\b\b\b\b\b\b\b\b\b\b\b\b\b\b\b\b\b\b\b\b\b\b\b\b\b\b\b\b\b\b\b\b\b\b\b\b\b\b\b\r15/15 [==============================] - 1s 50ms/step - loss: 0.0291 - accuracy: 0.9891 - val_loss: 0.1027 - val_accuracy: 0.9844 - lr: 0.0010\n",
            "Epoch 36/48\n",
            "15/15 [==============================] - ETA: 0s - loss: 0.0226 - accuracy: 0.9913"
          ]
        },
        {
          "output_type": "stream",
          "name": "stderr",
          "text": [
            "WARNING:tensorflow:Can save best model only with val_acc available, skipping.\n"
          ]
        },
        {
          "output_type": "stream",
          "name": "stdout",
          "text": [
            "\b\b\b\b\b\b\b\b\b\b\b\b\b\b\b\b\b\b\b\b\b\b\b\b\b\b\b\b\b\b\b\b\b\b\b\b\b\b\b\b\b\b\b\b\b\b\b\b\b\b\b\b\b\b\b\b\b\b\b\b\b\b\b\b\b\b\b\b\b\b\b\b\b\b\b\b\b\b\b\b\b\b\r15/15 [==============================] - 1s 49ms/step - loss: 0.0226 - accuracy: 0.9913 - val_loss: 0.1469 - val_accuracy: 0.9844 - lr: 0.0010\n",
            "Epoch 37/48\n",
            "15/15 [==============================] - ETA: 0s - loss: 0.0245 - accuracy: 0.9924"
          ]
        },
        {
          "output_type": "stream",
          "name": "stderr",
          "text": [
            "WARNING:tensorflow:Can save best model only with val_acc available, skipping.\n"
          ]
        },
        {
          "output_type": "stream",
          "name": "stdout",
          "text": [
            "\b\b\b\b\b\b\b\b\b\b\b\b\b\b\b\b\b\b\b\b\b\b\b\b\b\b\b\b\b\b\b\b\b\b\b\b\b\b\b\b\b\b\b\b\b\b\b\b\b\b\b\b\b\b\b\b\b\b\b\b\b\b\b\b\b\b\b\b\b\b\b\b\b\b\b\b\b\b\b\b\b\b\r15/15 [==============================] - 1s 49ms/step - loss: 0.0245 - accuracy: 0.9924 - val_loss: 0.1605 - val_accuracy: 0.9766 - lr: 0.0010\n",
            "Epoch 38/48\n",
            "15/15 [==============================] - ETA: 0s - loss: 0.0348 - accuracy: 0.9924"
          ]
        },
        {
          "output_type": "stream",
          "name": "stderr",
          "text": [
            "WARNING:tensorflow:Can save best model only with val_acc available, skipping.\n"
          ]
        },
        {
          "output_type": "stream",
          "name": "stdout",
          "text": [
            "\b\b\b\b\b\b\b\b\b\b\b\b\b\b\b\b\b\b\b\b\b\b\b\b\b\b\b\b\b\b\b\b\b\b\b\b\b\b\b\b\b\b\b\b\b\b\b\b\b\b\b\b\b\b\b\b\b\b\b\b\b\b\b\b\b\b\b\b\b\b\b\b\b\b\b\b\b\b\b\b\b\b\r15/15 [==============================] - 1s 49ms/step - loss: 0.0348 - accuracy: 0.9924 - val_loss: 0.1403 - val_accuracy: 0.9844 - lr: 0.0010\n",
            "Epoch 39/48\n",
            "14/15 [===========================>..] - ETA: 0s - loss: 0.0263 - accuracy: 0.9918"
          ]
        },
        {
          "output_type": "stream",
          "name": "stderr",
          "text": [
            "WARNING:tensorflow:Can save best model only with val_acc available, skipping.\n"
          ]
        },
        {
          "output_type": "stream",
          "name": "stdout",
          "text": [
            "\b\b\b\b\b\b\b\b\b\b\b\b\b\b\b\b\b\b\b\b\b\b\b\b\b\b\b\b\b\b\b\b\b\b\b\b\b\b\b\b\b\b\b\b\b\b\b\b\b\b\b\b\b\b\b\b\b\b\b\b\b\b\b\b\b\b\b\b\b\b\b\b\b\b\b\b\b\b\b\b\b\b\r15/15 [==============================] - 1s 49ms/step - loss: 0.0247 - accuracy: 0.9924 - val_loss: 0.1375 - val_accuracy: 0.9844 - lr: 0.0010\n",
            "Epoch 40/48\n",
            "15/15 [==============================] - ETA: 0s - loss: 0.0109 - accuracy: 0.9989"
          ]
        },
        {
          "output_type": "stream",
          "name": "stderr",
          "text": [
            "WARNING:tensorflow:Can save best model only with val_acc available, skipping.\n"
          ]
        },
        {
          "output_type": "stream",
          "name": "stdout",
          "text": [
            "\b\b\b\b\b\b\b\b\b\b\b\b\b\b\b\b\b\b\b\b\b\b\b\b\b\b\b\b\b\b\b\b\b\b\b\b\b\b\b\b\b\b\b\b\b\b\b\b\b\b\b\b\b\b\b\b\b\b\b\b\b\b\b\b\b\b\b\b\b\b\b\b\b\b\b\b\b\b\b\b\b\b\r15/15 [==============================] - 1s 49ms/step - loss: 0.0109 - accuracy: 0.9989 - val_loss: 0.1488 - val_accuracy: 0.9844 - lr: 0.0010\n",
            "Epoch 41/48\n",
            "15/15 [==============================] - ETA: 0s - loss: 0.0206 - accuracy: 0.9924"
          ]
        },
        {
          "output_type": "stream",
          "name": "stderr",
          "text": [
            "WARNING:tensorflow:Can save best model only with val_acc available, skipping.\n"
          ]
        },
        {
          "output_type": "stream",
          "name": "stdout",
          "text": [
            "\b\b\b\b\b\b\b\b\b\b\b\b\b\b\b\b\b\b\b\b\b\b\b\b\b\b\b\b\b\b\b\b\b\b\b\b\b\b\b\b\b\b\b\b\b\b\b\b\b\b\b\b\b\b\b\b\b\b\b\b\b\b\b\b\b\b\b\b\b\b\b\b\b\b\b\b\b\b\b\b\b\b\r15/15 [==============================] - 1s 48ms/step - loss: 0.0206 - accuracy: 0.9924 - val_loss: 0.1698 - val_accuracy: 0.9844 - lr: 0.0010\n",
            "Epoch 42/48\n",
            "14/15 [===========================>..] - ETA: 0s - loss: 0.0255 - accuracy: 0.9906"
          ]
        },
        {
          "output_type": "stream",
          "name": "stderr",
          "text": [
            "WARNING:tensorflow:Can save best model only with val_acc available, skipping.\n"
          ]
        },
        {
          "output_type": "stream",
          "name": "stdout",
          "text": [
            "\b\b\b\b\b\b\b\b\b\b\b\b\b\b\b\b\b\b\b\b\b\b\b\b\b\b\b\b\b\b\b\b\b\b\b\b\b\b\b\b\b\b\b\b\b\b\b\b\b\b\b\b\b\b\b\b\b\b\b\b\b\b\b\b\b\b\b\b\b\b\b\b\b\b\b\b\b\b\b\b\b\b\r15/15 [==============================] - 1s 50ms/step - loss: 0.0241 - accuracy: 0.9913 - val_loss: 0.1506 - val_accuracy: 0.9844 - lr: 0.0010\n",
            "Epoch 43/48\n",
            "15/15 [==============================] - ETA: 0s - loss: 0.0199 - accuracy: 0.9913"
          ]
        },
        {
          "output_type": "stream",
          "name": "stderr",
          "text": [
            "WARNING:tensorflow:Can save best model only with val_acc available, skipping.\n"
          ]
        },
        {
          "output_type": "stream",
          "name": "stdout",
          "text": [
            "\b\b\b\b\b\b\b\b\b\b\b\b\b\b\b\b\b\b\b\b\b\b\b\b\b\b\b\b\b\b\b\b\b\b\b\b\b\b\b\b\b\b\b\b\b\b\b\b\b\b\b\b\b\b\b\b\b\b\b\b\b\b\b\b\b\b\b\b\b\b\b\b\b\b\b\b\b\b\b\b\b\b\r15/15 [==============================] - 1s 49ms/step - loss: 0.0199 - accuracy: 0.9913 - val_loss: 0.2924 - val_accuracy: 0.9375 - lr: 0.0010\n",
            "Epoch 44/48\n",
            "14/15 [===========================>..] - ETA: 0s - loss: 0.0308 - accuracy: 0.9894"
          ]
        },
        {
          "output_type": "stream",
          "name": "stderr",
          "text": [
            "WARNING:tensorflow:Can save best model only with val_acc available, skipping.\n"
          ]
        },
        {
          "output_type": "stream",
          "name": "stdout",
          "text": [
            "\b\b\b\b\b\b\b\b\b\b\b\b\b\b\b\b\b\b\b\b\b\b\b\b\b\b\b\b\b\b\b\b\b\b\b\b\b\b\b\b\b\b\b\b\b\b\b\b\b\b\b\b\b\b\b\b\b\b\b\b\b\b\b\b\b\b\b\b\b\b\b\b\b\b\b\b\b\b\b\b\b\b\r15/15 [==============================] - 1s 49ms/step - loss: 0.0294 - accuracy: 0.9902 - val_loss: 0.2759 - val_accuracy: 0.9609 - lr: 0.0010\n",
            "Epoch 45/48\n",
            "14/15 [===========================>..] - ETA: 0s - loss: 0.0250 - accuracy: 0.9918"
          ]
        },
        {
          "output_type": "stream",
          "name": "stderr",
          "text": [
            "WARNING:tensorflow:Can save best model only with val_acc available, skipping.\n"
          ]
        },
        {
          "output_type": "stream",
          "name": "stdout",
          "text": [
            "\b\b\b\b\b\b\b\b\b\b\b\b\b\b\b\b\b\b\b\b\b\b\b\b\b\b\b\b\b\b\b\b\b\b\b\b\b\b\b\b\b\b\b\b\b\b\b\b\b\b\b\b\b\b\b\b\b\b\b\b\b\b\b\b\b\b\b\b\b\b\b\b\b\b\b\b\b\b\b\b\b\b\r15/15 [==============================] - 1s 48ms/step - loss: 0.0292 - accuracy: 0.9902 - val_loss: 0.2989 - val_accuracy: 0.9375 - lr: 0.0010\n",
            "Epoch 46/48\n",
            "15/15 [==============================] - ETA: 0s - loss: 0.0298 - accuracy: 0.9880"
          ]
        },
        {
          "output_type": "stream",
          "name": "stderr",
          "text": [
            "WARNING:tensorflow:Can save best model only with val_acc available, skipping.\n"
          ]
        },
        {
          "output_type": "stream",
          "name": "stdout",
          "text": [
            "\b\b\b\b\b\b\b\b\b\b\b\b\b\b\b\b\b\b\b\b\b\b\b\b\b\b\b\b\b\b\b\b\b\b\b\b\b\b\b\b\b\b\b\b\b\b\b\b\b\b\b\b\b\b\b\b\b\b\b\b\b\b\b\b\b\b\b\b\b\b\b\b\b\b\b\b\b\b\b\b\b\b\r15/15 [==============================] - 1s 48ms/step - loss: 0.0298 - accuracy: 0.9880 - val_loss: 0.2175 - val_accuracy: 0.9453 - lr: 0.0010\n",
            "Epoch 47/48\n",
            "15/15 [==============================] - ETA: 0s - loss: 0.0396 - accuracy: 0.9902Restoring model weights from the end of the best epoch: 35.\n"
          ]
        },
        {
          "output_type": "stream",
          "name": "stderr",
          "text": [
            "WARNING:tensorflow:Can save best model only with val_acc available, skipping.\n"
          ]
        },
        {
          "output_type": "stream",
          "name": "stdout",
          "text": [
            "\n",
            "Epoch 47: ReduceLROnPlateau reducing learning rate to 0.00020000000949949026.\n",
            "15/15 [==============================] - 1s 51ms/step - loss: 0.0396 - accuracy: 0.9902 - val_loss: 0.1936 - val_accuracy: 0.9609 - lr: 0.0010\n",
            "Epoch 47: early stopping\n"
          ]
        }
      ],
      "source": [
        "history = model.fit(train_set,\n",
        "                                steps_per_epoch=train_set.n//train_set.batch_size,\n",
        "                                epochs=epochs,\n",
        "                                validation_data = test_set,\n",
        "                                validation_steps = test_set.n//test_set.batch_size,\n",
        "                                callbacks=callbacks_list\n",
        "                                )\n",
        "                                "
      ]
    },
    {
      "cell_type": "code",
      "execution_count": 13,
      "metadata": {
        "id": "x2gVF7UTBfx9"
      },
      "outputs": [],
      "source": [
        "model.save_weights('face_emotion_model.h5')"
      ]
    },
    {
      "cell_type": "code",
      "execution_count": 14,
      "metadata": {
        "id": "sXH2gIddU6uz"
      },
      "outputs": [],
      "source": [
        "model.save('accurate_model.h5')"
      ]
    },
    {
      "cell_type": "code",
      "execution_count": 15,
      "metadata": {
        "id": "_PwMixvuBf0Q",
        "colab": {
          "base_uri": "https://localhost:8080/",
          "height": 743
        },
        "outputId": "ca1ea7f6-8b1a-4662-eac1-b98489d371f6"
      },
      "outputs": [
        {
          "output_type": "display_data",
          "data": {
            "text/plain": [
              "<Figure size 2000x1000 with 2 Axes>"
            ],
            "image/png": "[encoded data removed]"
          },
          "metadata": {}
        }
      ],
      "source": [
        "plt.style.use('default')\n",
        "\n",
        "plt.figure(figsize=(20,10))\n",
        "plt.subplot(1, 2, 1)\n",
        "plt.suptitle('Optimizer : Adam', fontsize=10)\n",
        "plt.ylabel('Loss', fontsize=16)\n",
        "plt.plot(history.history['loss'], label='Training Loss')\n",
        "plt.plot(history.history['val_loss'], label='Validation Loss')\n",
        "plt.legend(loc='upper right')\n",
        "\n",
        "plt.subplot(1, 2, 2)\n",
        "plt.ylabel('Accuracy', fontsize=16)\n",
        "plt.plot(history.history['accuracy'], label='Training Accuracy')\n",
        "plt.plot(history.history['val_accuracy'], label='Validation Accuracy')\n",
        "plt.legend(loc='lower right')\n",
        "plt.show()"
      ]
    },
    {
      "cell_type": "code",
      "execution_count": 17,
      "metadata": {
        "id": "JHrToclIBf21",
        "colab": {
          "base_uri": "https://localhost:8080/"
        },
        "outputId": "433fd46e-a94f-48dd-9cc7-32fdf5ccc243"
      },
      "outputs": [
        {
          "output_type": "stream",
          "name": "stdout",
          "text": [
            "Mounted at /content/gdrive\n"
          ]
        }
      ],
      "source": [
        "from google.colab import drive\n",
        "drive.mount('/content/gdrive',force_remount=True)"
      ]
    },
    {
      "cell_type": "code",
      "execution_count": 19,
      "metadata": {
        "id": "0wqJa5m6Bf5M",
        "colab": {
          "base_uri": "https://localhost:8080/"
        },
        "outputId": "675a8457-a74d-4fed-9c0e-58ce27cf8319"
      },
      "outputs": [
        {
          "output_type": "stream",
          "name": "stdout",
          "text": [
            "total 1383526\n",
            "-rw------- 1 root root  54541112 Dec  4 11:32  CJJJ.h5\n",
            "-rw------- 1 root root  42677436 Dec  4 10:47  FERRR.zip\n",
            "-rw------- 1 root root  54541112 Dec  4 10:35  newacc.h5\n",
            "-rw------- 1 root root  41493480 Dec  4 09:52  acc.h5\n",
            "-rw------- 1 root root  41805146 Dec  3 15:01  FERR.zip\n",
            "-rw------- 1 root root 347978080 Nov 17 15:32  newmodel2.h5\n",
            "-rw------- 1 root root  63252113 Nov 15 10:27 'archive (2).zip'\n",
            "-rw------- 1 root root 678126638 Nov 15 09:56  CKPlus.zip\n",
            "-rw------- 1 root root    190614 Nov  9 06:41 'Farooq Baig - Resume.pdf'\n",
            "-rw------- 1 root root     23616 Oct 24 14:54  Untitled\n",
            "-rw------- 1 root root    206780 Sep 11 04:19 'Farooq Baig -Resume (1).pdf'\n",
            "-rw------- 1 root root  11526610 Aug 17 11:30  Neww_.pdf\n",
            "-rw------- 1 root root  11368811 Aug 16 02:40  Neww.pdf\n",
            "-rw------- 1 root root  11344013 Aug 13 14:11  Neww_w.pdf\n",
            "-rw------- 1 root root  11204586 Aug  7 10:21  Newwww.pdf\n",
            "-rw------- 1 root root     72720 Aug  6 15:24  5_6298835363699885793.xlsx\n",
            "-rw------- 1 root root    206780 Jul 22 15:00 'Farooq Baig -Resume.pdf'\n",
            "-rw------- 1 root root  11113184 Jul  4 00:26  Newww.pdf\n",
            "-rw------- 1 root root       181 Jun 13 06:52 'Untitled document.gdoc'\n",
            "-rw------- 1 root root    137485 May 15  2022 'Resume May.pdf'\n",
            "-rw------- 1 root root    544957 May 15  2022 'Farooq Baig Internship Certificate.pdf'\n",
            "-rw------- 1 root root    218892 Apr 27  2022  reciept.jpg\n",
            "-rw------- 1 root root    125268 Apr 12  2022  predictions.csv\n",
            "-rw------- 1 root root    311890 Apr 12  2022  ML_project.ipynb\n",
            "-rw------- 1 root root    416903 Apr  9  2022  test.csv\n",
            "-rw------- 1 root root    416903 Apr  9  2022 'test (1).csv'\n",
            "-rw------- 1 root root     55646 Mar 12  2022 \"Farooq Baig's Resume.pdf\"\n",
            "-rw------- 1 root root   1070890 Mar  9  2022 'Design and analysis of algorithms.jpg'\n",
            "-rw------- 1 root root    990099 Mar  9  2022  19501A0552.pdf\n",
            "-rw------- 1 root root    266901 Mar  9  2022 'Coursera RD9CFB6S3ZRA2.pdf'\n",
            "-rw------- 1 root root    159364 Mar  9  2022 'Coursera TK43JRR3GCP3 33.pdf'\n",
            "-rw------- 1 root root    157672 Mar  9  2022 'Coursera TK43JRR3GCP3.pdf'\n",
            "-rw------- 1 root root   1123612 Mar  9  2022 'Problem Solving through Programming in C (1).jpg'\n",
            "-rw------- 1 root root    307868 Mar  9  2022 'Coursera JKHRK5GAUZ58.pdf'\n",
            "-rw------- 1 root root   1109496 Mar  9  2022 'Problem Solving through Programming in C (2).jpg'\n",
            "-rw------- 1 root root    283587 Mar  9  2022 'Coursera 8238DJ2X6TC5 (1).pdf'\n",
            "-rw------- 1 root root    235582 Mar  9  2022 'Coursera YL32LGTDB88Y.pdf'\n",
            "-rw------- 1 root root    235582 Mar  9  2022 'Coursera YL32LGTDB88Y..pdf'\n",
            "-rw------- 1 root root     93260 Mar  9  2022  FAROOQ-BAIG-Participant-Certificate.pdf\n",
            "-rw------- 1 root root       129 Mar  9  2022 'Nptel C programming.txt'\n",
            "-rw------- 1 root root    161963 Mar  9  2022 'Coursera WAFFLLRHFXSF 1.pdf'\n",
            "-rw------- 1 root root    161963 Mar  9  2022 'Coursera WAFFLLRHFXSF 2.pdf'\n",
            "-rw------- 1 root root    161963 Mar  9  2022 'Coursera WAFFLLRHFXSF.pdf'\n",
            "-rw------- 1 root root    235582 Mar  9  2022 'Coursera YL32LGTDB88Y (1).pdf'\n",
            "-rw------- 1 root root    235582 Mar  9  2022 'Coursera YL32LGTDB88Y 2.pdf'\n",
            "-rw------- 1 root root    235582 Mar  9  2022 'Coursera YL32LGTDB88Y 3.pdf'\n",
            "-rw------- 1 root root    266901 Mar  9  2022 'Coursera RD9CFB6S3ZRA .pdf'\n",
            "-rw------- 1 root root    266901 Mar  9  2022 'Coursera RD9CFB6S3ZRA.pdf'\n",
            "-rw------- 1 root root    159364 Mar  9  2022 'Coursera TK43JRR3GCP3 22.pdf'\n",
            "-rw------- 1 root root    157672 Mar  9  2022 'Coursera TK43JRR3GCP3 2.pdf'\n",
            "-rw------- 1 root root    157672 Mar  9  2022 'Coursera TK43JRR3GCP3 3.pdf'\n",
            "-rw------- 1 root root    159364 Mar  9  2022 'Coursera TK43JRR3GCP.pdf'\n",
            "-rw------- 1 root root    294972 Mar  9  2022 'Coursera NQZQ5SCWM5SP .pdf'\n",
            "-rw------- 1 root root    294972 Mar  9  2022 'Coursera NQZQ5SCWM5SP ).pdf'\n",
            "-rw------- 1 root root    294972 Mar  9  2022 'Coursera NQZQ5SCWM5SP.pdf'\n",
            "-rw------- 1 root root    167477 Mar  9  2022 'Coursera JZWJNVVSP8RK 1).pdf'\n",
            "-rw------- 1 root root    167477 Mar  9  2022 'Coursera JZWJNVVSP8RK .pdf'\n",
            "-rw------- 1 root root    167477 Mar  9  2022 'Coursera JZWJNVVSP8RK.pdf'\n",
            "-rw------- 1 root root    303807 Mar  9  2022 'Coursera FXW84YXUYGRD (2).pdf'\n",
            "-rw------- 1 root root    303807 Mar  9  2022 'Coursera FXW84YXUYGRD.pdf'\n",
            "-rw------- 1 root root    423500 Mar  9  2022 'Coursera HQME6XYMUDA5 (3.pdf'\n",
            "-rw------- 1 root root    423500 Mar  9  2022 'Coursera HQME6XYMUDA5 ).pdf'\n",
            "-rw------- 1 root root    423500 Mar  9  2022 'Coursera HQME6XYMUDA5.pdf'\n",
            "-rw------- 1 root root    307868 Mar  9  2022 'Coursera JKHRK5GAUZ58 1).pdf'\n",
            "-rw------- 1 root root    307868 Mar  9  2022 'Coursera JKHRK5GAUZ58 .pdf'\n",
            "-rw------- 1 root root    329147 Mar  9  2022 'Coursera E6G8FHSV6BRG1.pdf'\n",
            "-rw------- 1 root root    329147 Mar  9  2022 'Coursera E6G8FHSV6BRG2.pdf'\n",
            "-rw------- 1 root root    329147 Mar  9  2022 'Coursera E6G8FHSV6BRG.pdf'\n",
            "-rw------- 1 root root    356009 Mar  9  2022 'Coursera EKDCNC5MZ729 (1).pdf'\n",
            "-rw------- 1 root root    356009 Mar  9  2022 'Coursera EKDCNC5MZ729 (2).pdf'\n",
            "-rw------- 1 root root    356009 Mar  9  2022 'Coursera EKDCNC5MZ729.pdf'\n",
            "-rw------- 1 root root    303807 Mar  9  2022 'Coursera FXW84YXUYGRD (1).pdf'\n",
            "-rw------- 1 root root    295081 Mar  9  2022 'Coursera 6FX6HNCUAPQW (2).pdf'\n",
            "-rw------- 1 root root    295081 Mar  9  2022 'Coursera 6FX6HNCUAPQW (3).pdf'\n",
            "-rw------- 1 root root    295081 Mar  9  2022 'Coursera 6FX6HNCUAPQW.pdf'\n",
            "-rw------- 1 root root    283587 Mar  9  2022 'Coursera 8238DJ2X6TC5 (2).pdf'\n",
            "-rw------- 1 root root    283587 Mar  9  2022 'Coursera 8238DJ2X6TC5.pdf'\n",
            "-rw------- 1 root root    635006 Mar  8  2022 'FAROOQ BAIG 764702.pdf'\n",
            "-rw------- 1 root root       181 Feb 13  2022 'NEw Heap.gdoc'\n",
            "-rw------- 1 root root       181 Feb 13  2022 'Heap  .gdoc'\n",
            "-rw------- 1 root root       181 Feb 13  2022  Graph.gdoc\n",
            "-rw------- 1 root root       181 Feb 13  2022 'dynamic programming.gdoc'\n",
            "-rw------- 1 root root       181 Dec 18  2021 'Untitled document (1).gdoc'\n",
            "drwx------ 2 root root      4096 Jun  3  2021 'Colab Notebooks'\n",
            "drwx------ 2 root root      4096 May 24  2021  Classroom\n",
            "-rw------- 1 root root       181 Dec 16  2020 'Untitled presentation.gslides'\n",
            "-rw------- 1 root root       181 Dec 16  2020 'Prototyping presentation.gslides'\n",
            "-rw------- 1 root root       181 Dec 16  2020 'Untitled presentation (1).gslides'\n",
            "-rw------- 1 root root       181 Oct 30  2020 'wag-futd-rwx - Oct 30, 2020.gjam'\n",
            "-rw------- 1 root root       181 Oct 14  2020 'shm-ywyz-nty - Oct 14, 2020.gjam'\n",
            "-rw------- 1 root root       181 Sep 10  2020  Dc.pdf.gdoc\n",
            "-rw------- 1 root root       181 Sep  6  2020 'Untitled document (2).gdoc'\n",
            "-rw------- 1 root root       181 Sep  5  2020 'DT exp-1 Toothpick-bridge.pdf.gdoc'\n",
            "-rw------- 1 root root       181 Sep  4  2020 'Untitled document (3).gdoc'\n",
            "-rw------- 1 root root       181 Jun 19  2020 'Untitled form.gform'\n",
            "-rw------- 1 root root       181 Jun  4  2020 'What do u think about me . .gform'\n",
            "-rw------- 1 root root      1674 May 22  2020  STACK.C\n",
            "-rw------- 1 root root       181 Mar 11  2020  19501A0552.gslides\n",
            "-rw------- 1 root root       181 Mar 11  2020 'Untitled spreadsheet.gsheet'\n",
            "-rw------- 1 root root       181 Mar 11  2020 'Untitled document (4).gdoc'\n",
            "-rw------- 1 root root   1515829 Feb 18  2020  19501A0552.pptx\n",
            "-rw------- 1 root root     20122 Feb 12  2020  19501A05522.docx\n",
            "-rw------- 1 root root       181 Feb 12  2020  19501A05522.gdoc\n",
            "-rw------- 1 root root     20122 Feb 12  2020 '19501A05522 (1).docx'\n",
            "-rw------- 1 root root       292 Nov  7  2019 'twenty two.c'\n",
            "-rw------- 1 root root    979778 Oct 17  2019  IMG_20190928_081659.jpg\n",
            "-rw------- 1 root root    873703 Oct 17  2019  IMG_20190928_081749.jpg\n",
            "-rw------- 1 root root    988007 Oct 17  2019  IMG_20190928_081804.jpg\n",
            "-rw------- 1 root root    888093 Oct 17  2019  IMG_20190928_081534.jpg\n",
            "-rw------- 1 root root    597510 Oct 17  2019  IMG_20190928_081611.jpg\n",
            "-rw------- 1 root root   1064049 Oct 17  2019  IMG_20190928_081813.jpg\n",
            "-rw------- 1 root root    992572 Oct 17  2019  IMG_20190928_081838.jpg\n",
            "-rw------- 1 root root   1191540 Oct 17  2019  IMG_20190927_220805.jpg\n",
            "-rw------- 1 root root    636842 Oct 17  2019  IMG_20190928_081601.jpg\n",
            "-rw------- 1 root root    808508 Oct 17  2019  IMG_20190928_081633.jpg\n",
            "-rw------- 1 root root    945430 Oct 17  2019  IMG_20190928_081736.jpg\n",
            "-rw------- 1 root root    386717 Sep 28  2019  PP-27-Facts-2015.pdf\n",
            "drwx------ 2 root root      4096 Sep 22  2019 'C lang'\n",
            "-rw------- 1 root root    772608 Sep 22  2019 'c _notes1.doc'\n",
            "-rw------- 1 root root      7387 Sep 22  2019  SLIST_ME.C\n",
            "-rw------- 1 root root      1069 Sep 22  2019  SELECT_S.C\n",
            "-rw------- 1 root root      1585 Sep 22  2019  MERGE_SO.C\n",
            "-rw------- 1 root root      1172 Sep 22  2019  QUICK_SO.C\n",
            "-rw------- 1 root root      1000 Sep 22  2019  INSERT_S.C\n",
            "-rw------- 1 root root    443392 Sep 22  2019 'c notes.doc'\n",
            "-rw------- 1 root root   1355781 Sep 19  2019  vgsales.csv\n",
            "-rw------- 1 root root   1560010 Jan  1  2019 'Getting started.pdf'\n"
          ]
        }
      ],
      "source": [
        "!cp CJJJ.h5 '/content/gdrive/My Drive/'\n",
        "!ls -lt '/content/gdrive/My Drive/' "
      ]
    },
    {
      "cell_type": "code",
      "execution_count": null,
      "metadata": {
        "id": "c-YdtMkFBf7m"
      },
      "outputs": [],
      "source": []
    },
    {
      "cell_type": "code",
      "execution_count": null,
      "metadata": {
        "id": "RFFKwi7SBf-J"
      },
      "outputs": [],
      "source": []
    },
    {
      "cell_type": "code",
      "execution_count": null,
      "metadata": {
        "id": "JZOYpmKbBgAg"
      },
      "outputs": [],
      "source": []
    },
    {
      "cell_type": "code",
      "execution_count": null,
      "metadata": {
        "id": "IIAE10y9BgDD"
      },
      "outputs": [],
      "source": []
    },
    {
      "cell_type": "code",
      "execution_count": null,
      "metadata": {
        "id": "wi-YO5qOBgFc"
      },
      "outputs": [],
      "source": []
    },
    {
      "cell_type": "code",
      "execution_count": null,
      "metadata": {
        "id": "jxihmoS9BgH1"
      },
      "outputs": [],
      "source": []
    },
    {
      "cell_type": "code",
      "execution_count": null,
      "metadata": {
        "id": "5ghVtEgnBgKN"
      },
      "outputs": [],
      "source": []
    },
    {
      "cell_type": "code",
      "execution_count": null,
      "metadata": {
        "id": "qsNGBzGQBgMi"
      },
      "outputs": [],
      "source": []
    },
    {
      "cell_type": "code",
      "execution_count": null,
      "metadata": {
        "id": "cUteTnZ3BgPE"
      },
      "outputs": [],
      "source": []
    },
    {
      "cell_type": "code",
      "execution_count": null,
      "metadata": {
        "id": "kdBfqSBEBgRn"
      },
      "outputs": [],
      "source": []
    },
    {
      "cell_type": "code",
      "execution_count": null,
      "metadata": {
        "id": "Nb9mxN2RBgUC"
      },
      "outputs": [],
      "source": []
    },
    {
      "cell_type": "code",
      "execution_count": null,
      "metadata": {
        "id": "EtLPZnKgBgWg"
      },
      "outputs": [],
      "source": []
    },
    {
      "cell_type": "code",
      "execution_count": null,
      "metadata": {
        "id": "1rtF2sPHBgZv"
      },
      "outputs": [],
      "source": []
    }
  ],
  "metadata": {
    "accelerator": "GPU",
    "colab": {
      "provenance": [],
      "include_colab_link": true
    },
    "gpuClass": "standard",
    "kernelspec": {
      "display_name": "Python 3",
      "name": "python3"
    },
    "language_info": {
      "name": "python"
    }
  },
  "nbformat": 4,
  "nbformat_minor": 0
}